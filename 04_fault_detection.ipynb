{
 "cells": [
  {
   "cell_type": "markdown",
   "id": "a101fcc6",
   "metadata": {},
   "source": [
    "# Fault Detection\n",
    "\n",
    "    ## Fault Detection\n",
    "    In this notebook, we implement anomaly detection using Isolation Forest and Autoencoders.\n",
    "    \n",
    "    Steps:\n",
    "    1. Implement Isolation Forest for detecting faults.\n",
    "    2. implement local outlier factors\n",
    "    2. Train Autoencoders for anomaly detection.\n",
    "    3. Visualize anomalies in voltage and power consumption data.\n",
    "    "
   ]
  },
  {
   "cell_type": "markdown",
   "id": "3772e7f2-92f5-4073-98e2-f2043a08eb9f",
   "metadata": {},
   "source": [
    "Yes, let's move on to the **fourth notebook**: **Fault Detection**.\n",
    "\n",
    "In this notebook, we'll focus on **anomaly detection** using two techniques:\n",
    "\n",
    "1. **Isolation Forest** (for outlier detection).\n",
    "2. **Autoencoders** (for anomaly detection based on reconstruction error).\n",
    "\n",
    "We will:\n",
    "\n",
    "1. **Detect faults** in the dataset (e.g., voltage spikes, sudden power surges).\n",
    "2. **Label anomalies** based on the **Isolation Forest** and **Autoencoders** results.\n",
    "3. **Evaluate the detection performance** using the **same metrics** (accuracy, precision, recall, and F1 score) as before.\n",
    "\n",
    "---\n",
    "\n",
    "### **Fourth Notebook: `04_fault_detection.ipynb`**\n",
    "\n",
    "#### **Markdown Cell**:\n",
    "\n",
    "```markdown\n",
    "# Fault Detection\n",
    "\n",
    "In this notebook, we implement anomaly detection using **Isolation Forest** and **Autoencoders**.\n",
    "\n",
    "Steps:\n",
    "1. Use **Isolation Forest** to detect faults in power distribution.\n",
    "2. Train **Autoencoders** for anomaly detection.\n",
    "3. Label anomalies (potential faults) based on the reconstruction error.\n",
    "4. Evaluate the performance of fault detection using metrics like accuracy, precision, recall, and F1 score.\n",
    "```\n",
    "\n",
    "#### **Code Cell**:\n",
    "\n",
    "```python\n",
    "# Import necessary libraries for anomaly detection\n",
    "from sklearn.ensemble import IsolationForest\n",
    "from keras.models import Model\n",
    "from keras.layers import Input, Dense\n",
    "import numpy as np\n",
    "import pandas as pd\n",
    "import matplotlib.pyplot as plt\n",
    "\n",
    "# Load the preprocessed dataset\n",
    "df = pd.read_csv('preprocessed_power_consumption.csv', index_col='Timestamp')\n",
    "\n",
    "# Select relevant features for anomaly detection\n",
    "features = ['Voltage', 'Global_active_power', 'Global_intensity']\n",
    "X = df[features]\n",
    "\n",
    "# **1. Isolation Forest for Fault Detection**\n",
    "# Initialize Isolation Forest model\n",
    "model_iforest = IsolationForest(n_estimators=200, contamination=0.05, max_samples=0.9, random_state=42)\n",
    "model_iforest.fit(X)  # Train the model on the selected features\n",
    "\n",
    "# Predict anomalies using Isolation Forest\n",
    "df['anomaly_iforest'] = model_iforest.predict(X)  # -1 for anomaly, 1 for normal\n",
    "df['anomaly_iforest'] = df['anomaly_iforest'].map({1: 'Normal', -1: 'Anomaly'})  # Map the predictions\n",
    "\n",
    "# **2. Autoencoders for Anomaly Detection**\n",
    "# Normalize the data before passing to Autoencoder\n",
    "from sklearn.preprocessing import MinMaxScaler\n",
    "scaler = MinMaxScaler()\n",
    "X_scaled = scaler.fit_transform(X)\n",
    "\n",
    "# Define Autoencoder model structure\n",
    "input_layer = Input(shape=(X_scaled.shape[1],))\n",
    "encoded = Dense(128, activation='relu')(input_layer)  # Encoder layer\n",
    "decoded = Dense(X_scaled.shape[1], activation='sigmoid')(encoded)  # Decoder layer (reconstruction)\n",
    "\n",
    "autoencoder = Model(input_layer, decoded)\n",
    "autoencoder.compile(optimizer='adam', loss='mean_squared_error')\n",
    "\n",
    "# Train Autoencoder model\n",
    "autoencoder.fit(X_scaled, X_scaled, epochs=50, batch_size=256, shuffle=True, validation_data=(X_scaled, X_scaled))\n",
    "\n",
    "# **Anomaly detection with Autoencoders**\n",
    "reconstructed = autoencoder.predict(X_scaled)  # Reconstructed data from Autoencoder\n",
    "reconstruction_error = np.mean(np.abs(reconstructed - X_scaled), axis=1)  # Reconstruction error\n",
    "\n",
    "# Set threshold for anomaly detection (top 5% reconstruction errors)\n",
    "threshold = np.percentile(reconstruction_error, 95)\n",
    "df['anomaly_autoencoder'] = (reconstruction_error > threshold).astype(int)  # 1 for anomaly, 0 for normal\n",
    "\n",
    "# **3. Evaluate the Performance**\n",
    "# Assuming we have labels or a threshold for detecting faults, we can evaluate performance.\n",
    "# For demonstration, assume anomalies detected by both methods are potential faults.\n",
    "\n",
    "# Displaying first few rows with anomalies labeled\n",
    "print(\"\\nFirst few rows with anomaly labels:\")\n",
    "print(df[['Voltage', 'Global_active_power', 'anomaly_iforest', 'anomaly_autoencoder']].head(10))\n",
    "\n",
    "# **4. Evaluate Model Performance using Precision, Recall, F1 Score**\n",
    "# Here, we assume that anomalies labeled by 'anomaly_iforest' or 'anomaly_autoencoder' are the faults.\n",
    "y_true = (df['anomaly_iforest'] == 'Anomaly').astype(int)  # True labels for faults\n",
    "y_pred_iforest = (df['anomaly_iforest'] == 'Anomaly').astype(int)  # Predicted anomalies by Isolation Forest\n",
    "y_pred_autoencoder = df['anomaly_autoencoder']  # Predicted anomalies by Autoencoder\n",
    "\n",
    "# Evaluation for Isolation Forest\n",
    "from sklearn.metrics import accuracy_score, precision_score, recall_score, f1_score\n",
    "print(\"\\nIsolation Forest Model Evaluation:\")\n",
    "print(f\"Accuracy: {accuracy_score(y_true, y_pred_iforest):.4f}\")\n",
    "print(f\"Precision: {precision_score(y_true, y_pred_iforest):.4f}\")\n",
    "print(f\"Recall: {recall_score(y_true, y_pred_iforest):.4f}\")\n",
    "print(f\"F1 Score: {f1_score(y_true, y_pred_iforest):.4f}\")\n",
    "print(\"\\nClassification Report for Isolation Forest:\\n\", classification_report(y_true, y_pred_iforest))\n",
    "\n",
    "# Evaluation for Autoencoder\n",
    "print(\"\\nAutoencoder Model Evaluation:\")\n",
    "print(f\"Accuracy: {accuracy_score(y_true, y_pred_autoencoder):.4f}\")\n",
    "print(f\"Precision: {precision_score(y_true, y_pred_autoencoder):.4f}\")\n",
    "print(f\"Recall: {recall_score(y_true, y_pred_autoencoder):.4f}\")\n",
    "print(f\"F1 Score: {f1_score(y_true, y_pred_autoencoder):.4f}\")\n",
    "print(\"\\nClassification Report for Autoencoder:\\n\", classification_report(y_true, y_pred_autoencoder))\n",
    "\n",
    "# **Visualize Anomalies**\n",
    "plt.figure(figsize=(12, 6))\n",
    "plt.subplot(2, 1, 1)\n",
    "plt.scatter(df.index, df['Voltage'], c=df['anomaly_iforest'].map({'Normal': 'blue', 'Anomaly': 'red'}), label='Anomalies')\n",
    "plt.title('Anomalies in Voltage (Isolation Forest)')\n",
    "plt.xlabel('Time')\n",
    "plt.ylabel('Voltage (V)')\n",
    "plt.legend()\n",
    "\n",
    "plt.subplot(2, 1, 2)\n",
    "plt.scatter(df.index, df['Voltage'], c=df['anomaly_autoencoder'].map({0: 'blue', 1: 'red'}), label='Anomalies')\n",
    "plt.title('Anomalies in Voltage (Autoencoder)')\n",
    "plt.xlabel('Time')\n",
    "plt.ylabel('Voltage (V)')\n",
    "plt.legend()\n",
    "\n",
    "plt.tight_layout()\n",
    "plt.show()\n",
    "```\n",
    "\n",
    "---\n",
    "\n",
    "### **Explanation of the Script**:\n",
    "\n",
    "1. **Isolation Forest**:\n",
    "\n",
    "   * We use **Isolation Forest** to detect anomalies based on **features** such as **Voltage**, **Global\\_active\\_power**, and **Global\\_intensity**. The model is trained and anomalies are detected.\n",
    "   * Anomalies are labeled as **'Anomaly'** and **'Normal'**.\n",
    "\n",
    "2. **Autoencoders**:\n",
    "\n",
    "   * We use **Autoencoders** to detect anomalies by training the model on the scaled dataset and then comparing the **reconstruction error** to identify anomalies.\n",
    "   * The **top 5%** of reconstruction errors are classified as anomalies.\n",
    "\n",
    "3. **Model Evaluation**:\n",
    "\n",
    "   * We use **accuracy**, **precision**, **recall**, and **F1 score** to evaluate the performance of both the **Isolation Forest** and **Autoencoder** models.\n",
    "   * We assume the **'Anomaly'** labels from both models represent **faults**.\n",
    "\n",
    "4. **Visualization**:\n",
    "\n",
    "   * The anomalies detected by **Isolation Forest** and **Autoencoder** are visualized on the **Voltage** time series. Red points represent anomalies, while blue represents normal data.\n",
    "\n",
    "---\n",
    "\n",
    "### **Next Steps**:\n",
    "\n",
    "1. **Run the Fault Detection** notebook to detect anomalies (faults) using both **Isolation Forest** and **Autoencoders**.\n",
    "2. **Evaluate** the performance using metrics like **accuracy**, **precision**, **recall**, and **F1 score**.\n",
    "3. If you have **real fault data**, you can compare **predicted faults** with actual faults to assess the model's effectiveness.\n",
    "\n",
    "Let me know if you'd like to proceed with **running this notebook**, or if you'd like to dive into any other steps!\n"
   ]
  },
  {
   "cell_type": "code",
   "execution_count": 1,
   "id": "d79786e7-d993-400d-978b-2c6d9dead21d",
   "metadata": {},
   "outputs": [],
   "source": [
    "from sklearn.neighbors import LocalOutlierFactor"
   ]
  },
  {
   "cell_type": "code",
   "execution_count": 2,
   "id": "7cbf2035-6592-4c8d-9000-3be600c23820",
   "metadata": {},
   "outputs": [],
   "source": [
    "# Create the LocalOutlierFactor \n",
    "# model for outlier detection\n",
    "lof_outlier = LocalOutlierFactor(n_neighbors=20)"
   ]
  },
  {
   "cell_type": "code",
   "execution_count": 13,
   "id": "7e59f29b-8e11-410b-a4c6-f3cad7ce7443",
   "metadata": {},
   "outputs": [
    {
     "name": "stdout",
     "output_type": "stream",
     "text": [
      "Outlier indices: [False False False ... False False False]\n"
     ]
    }
   ],
   "source": [
    "# Fit the model to the data and predict\n",
    "# the outlier scores for each data point\n",
    "outlier_scores = lof_outlier.fit_predict(X_scaled)\n",
    "\n",
    "# Identify the outlier data points\n",
    "outlier_indices = outlier_scores == -1\n",
    "print(\"Outlier indices:\", outlier_indices)"
   ]
  },
  {
   "cell_type": "code",
   "execution_count": 17,
   "id": "3e81488b-3d69-4a08-85bb-bc2f4dfe9d70",
   "metadata": {},
   "outputs": [
    {
     "data": {
      "text/plain": [
       "0    \n",
       "False    2055076\n",
       "True       20183\n",
       "Name: count, dtype: int64"
      ]
     },
     "execution_count": 17,
     "metadata": {},
     "output_type": "execute_result"
    }
   ],
   "source": [
    "Outlier_lof = pd.DataFrame(outlier_indices)\n",
    "Outlier_lof.value_counts()"
   ]
  },
  {
   "cell_type": "code",
   "execution_count": 2,
   "id": "029e4de2-1ae1-4fba-b86e-a0d58dee5f53",
   "metadata": {},
   "outputs": [
    {
     "name": "stdout",
     "output_type": "stream",
     "text": [
      "Collecting keras\n",
      "  Downloading keras-3.9.2-py3-none-any.whl.metadata (6.1 kB)\n",
      "Collecting absl-py (from keras)\n",
      "  Downloading absl_py-2.2.2-py3-none-any.whl.metadata (2.6 kB)\n",
      "Requirement already satisfied: numpy in /root/myenv/lib/python3.12/site-packages (from keras) (2.2.5)\n",
      "Collecting rich (from keras)\n",
      "  Downloading rich-14.0.0-py3-none-any.whl.metadata (18 kB)\n",
      "Collecting namex (from keras)\n",
      "  Downloading namex-0.0.9-py3-none-any.whl.metadata (322 bytes)\n",
      "Collecting h5py (from keras)\n",
      "  Downloading h5py-3.13.0-cp312-cp312-manylinux_2_17_x86_64.manylinux2014_x86_64.whl.metadata (2.5 kB)\n",
      "Collecting optree (from keras)\n",
      "  Downloading optree-0.15.0-cp312-cp312-manylinux_2_17_x86_64.manylinux2014_x86_64.whl.metadata (48 kB)\n",
      "\u001b[2K     \u001b[90m━━━━━━━━━━━━━━━━━━━━━━━━━━━━━━━━━━━━━━━\u001b[0m \u001b[32m48.9/48.9 kB\u001b[0m \u001b[31m153.4 kB/s\u001b[0m eta \u001b[36m0:00:00\u001b[0ma \u001b[36m0:00:01\u001b[0m\n",
      "\u001b[?25hCollecting ml-dtypes (from keras)\n",
      "  Downloading ml_dtypes-0.5.1-cp312-cp312-manylinux_2_17_x86_64.manylinux2014_x86_64.whl.metadata (21 kB)\n",
      "Requirement already satisfied: packaging in /root/myenv/lib/python3.12/site-packages (from keras) (25.0)\n",
      "Requirement already satisfied: typing-extensions>=4.5.0 in /root/myenv/lib/python3.12/site-packages (from optree->keras) (4.13.2)\n",
      "Collecting markdown-it-py>=2.2.0 (from rich->keras)\n",
      "  Downloading markdown_it_py-3.0.0-py3-none-any.whl.metadata (6.9 kB)\n",
      "Requirement already satisfied: pygments<3.0.0,>=2.13.0 in /root/myenv/lib/python3.12/site-packages (from rich->keras) (2.19.1)\n",
      "Collecting mdurl~=0.1 (from markdown-it-py>=2.2.0->rich->keras)\n",
      "  Downloading mdurl-0.1.2-py3-none-any.whl.metadata (1.6 kB)\n",
      "Downloading keras-3.9.2-py3-none-any.whl (1.3 MB)\n",
      "\u001b[2K   \u001b[90m━━━━━━━━━━━━━━━━━━━━━━━━━━━━━━━━━━━━━━━━\u001b[0m \u001b[32m1.3/1.3 MB\u001b[0m \u001b[31m417.5 kB/s\u001b[0m eta \u001b[36m0:00:00\u001b[0m00:01\u001b[0m00:01\u001b[0m\n",
      "\u001b[?25hDownloading absl_py-2.2.2-py3-none-any.whl (135 kB)\n",
      "\u001b[2K   \u001b[90m━━━━━━━━━━━━━━━━━━━━━━━━━━━━━━━━━━━━━━━\u001b[0m \u001b[32m135.6/135.6 kB\u001b[0m \u001b[31m692.1 kB/s\u001b[0m eta \u001b[36m0:00:00\u001b[0ma \u001b[36m0:00:01\u001b[0m\n",
      "\u001b[?25hDownloading h5py-3.13.0-cp312-cp312-manylinux_2_17_x86_64.manylinux2014_x86_64.whl (4.9 MB)\n",
      "\u001b[2K   \u001b[90m━━━━━━━━━━━━━━━━━━━━━━━━━━━━━━━━━━━━━━━━\u001b[0m \u001b[32m4.9/4.9 MB\u001b[0m \u001b[31m708.3 kB/s\u001b[0m eta \u001b[36m0:00:00\u001b[0m00:01\u001b[0m00:01\u001b[0m\n",
      "\u001b[?25hDownloading ml_dtypes-0.5.1-cp312-cp312-manylinux_2_17_x86_64.manylinux2014_x86_64.whl (4.7 MB)\n",
      "\u001b[2K   \u001b[90m━━━━━━━━━━━━━━━━━━━━━━━━━━━━━━━━━━━━━━━━\u001b[0m \u001b[32m4.7/4.7 MB\u001b[0m \u001b[31m2.2 MB/s\u001b[0m eta \u001b[36m0:00:00\u001b[0m00:01\u001b[0m00:01\u001b[0m\n",
      "\u001b[?25hDownloading namex-0.0.9-py3-none-any.whl (5.8 kB)\n",
      "Downloading optree-0.15.0-cp312-cp312-manylinux_2_17_x86_64.manylinux2014_x86_64.whl (404 kB)\n",
      "\u001b[2K   \u001b[90m━━━━━━━━━━━━━━━━━━━━━━━━━━━━━━━━━━━━━━━━\u001b[0m \u001b[32m404.8/404.8 kB\u001b[0m \u001b[31m5.3 MB/s\u001b[0m eta \u001b[36m0:00:00\u001b[0m00:01\u001b[0m:00:01\u001b[0m\n",
      "\u001b[?25hDownloading rich-14.0.0-py3-none-any.whl (243 kB)\n",
      "\u001b[2K   \u001b[90m━━━━━━━━━━━━━━━━━━━━━━━━━━━━━━━━━━━━━━━━\u001b[0m \u001b[32m243.2/243.2 kB\u001b[0m \u001b[31m1.3 MB/s\u001b[0m eta \u001b[36m0:00:00\u001b[0ma \u001b[36m0:00:01\u001b[0mm\n",
      "\u001b[?25hDownloading markdown_it_py-3.0.0-py3-none-any.whl (87 kB)\n",
      "\u001b[2K   \u001b[90m━━━━━━━━━━━━━━━━━━━━━━━━━━━━━━━━━━━━━━━━\u001b[0m \u001b[32m87.5/87.5 kB\u001b[0m \u001b[31m535.6 kB/s\u001b[0m eta \u001b[36m0:00:00\u001b[0ma \u001b[36m0:00:01\u001b[0m\n",
      "\u001b[?25hDownloading mdurl-0.1.2-py3-none-any.whl (10.0 kB)\n",
      "Installing collected packages: namex, optree, ml-dtypes, mdurl, h5py, absl-py, markdown-it-py, rich, keras\n",
      "Successfully installed absl-py-2.2.2 h5py-3.13.0 keras-3.9.2 markdown-it-py-3.0.0 mdurl-0.1.2 ml-dtypes-0.5.1 namex-0.0.9 optree-0.15.0 rich-14.0.0\n"
     ]
    }
   ],
   "source": [
    "!pip install keras"
   ]
  },
  {
   "cell_type": "code",
   "execution_count": 42,
   "id": "d38aedb8-ae22-4a00-bdd2-342085cc2639",
   "metadata": {},
   "outputs": [],
   "source": [
    "# Import necessary libraries for anomaly detection\n",
    "from sklearn.ensemble import IsolationForest\n",
    "from keras.models import Model\n",
    "from keras.layers import Input, Dense\n",
    "import numpy as np\n",
    "import pandas as pd\n",
    "import matplotlib.pyplot as plt\n",
    "from tensorflow.keras.callbacks import ModelCheckpoint, EarlyStopping"
   ]
  },
  {
   "cell_type": "code",
   "execution_count": 1,
   "id": "aaffc6e9-4c37-4bb6-a6b8-821acddef478",
   "metadata": {},
   "outputs": [
    {
     "name": "stdout",
     "output_type": "stream",
     "text": [
      "Collecting tensorflow\n",
      "  Using cached tensorflow-2.19.0-cp312-cp312-manylinux_2_17_x86_64.manylinux2014_x86_64.whl.metadata (4.1 kB)\n",
      "Requirement already satisfied: absl-py>=1.0.0 in /root/myenv/lib/python3.12/site-packages (from tensorflow) (2.2.2)\n",
      "Collecting astunparse>=1.6.0 (from tensorflow)\n",
      "  Using cached astunparse-1.6.3-py2.py3-none-any.whl.metadata (4.4 kB)\n",
      "Collecting flatbuffers>=24.3.25 (from tensorflow)\n",
      "  Using cached flatbuffers-25.2.10-py2.py3-none-any.whl.metadata (875 bytes)\n",
      "Collecting gast!=0.5.0,!=0.5.1,!=0.5.2,>=0.2.1 (from tensorflow)\n",
      "  Using cached gast-0.6.0-py3-none-any.whl.metadata (1.3 kB)\n",
      "Collecting google-pasta>=0.1.1 (from tensorflow)\n",
      "  Using cached google_pasta-0.2.0-py3-none-any.whl.metadata (814 bytes)\n",
      "Collecting libclang>=13.0.0 (from tensorflow)\n",
      "  Using cached libclang-18.1.1-py2.py3-none-manylinux2010_x86_64.whl.metadata (5.2 kB)\n",
      "Collecting opt-einsum>=2.3.2 (from tensorflow)\n",
      "  Using cached opt_einsum-3.4.0-py3-none-any.whl.metadata (6.3 kB)\n",
      "Requirement already satisfied: packaging in /root/myenv/lib/python3.12/site-packages (from tensorflow) (25.0)\n",
      "Collecting protobuf!=4.21.0,!=4.21.1,!=4.21.2,!=4.21.3,!=4.21.4,!=4.21.5,<6.0.0dev,>=3.20.3 (from tensorflow)\n",
      "  Using cached protobuf-5.29.4-cp38-abi3-manylinux2014_x86_64.whl.metadata (592 bytes)\n",
      "Requirement already satisfied: requests<3,>=2.21.0 in /root/myenv/lib/python3.12/site-packages (from tensorflow) (2.32.3)\n",
      "Requirement already satisfied: setuptools in /root/myenv/lib/python3.12/site-packages (from tensorflow) (80.3.1)\n",
      "Requirement already satisfied: six>=1.12.0 in /root/myenv/lib/python3.12/site-packages (from tensorflow) (1.17.0)\n",
      "Collecting termcolor>=1.1.0 (from tensorflow)\n",
      "  Using cached termcolor-3.1.0-py3-none-any.whl.metadata (6.4 kB)\n",
      "Requirement already satisfied: typing-extensions>=3.6.6 in /root/myenv/lib/python3.12/site-packages (from tensorflow) (4.13.2)\n",
      "Collecting wrapt>=1.11.0 (from tensorflow)\n",
      "  Using cached wrapt-1.17.2-cp312-cp312-manylinux_2_5_x86_64.manylinux1_x86_64.manylinux_2_17_x86_64.manylinux2014_x86_64.whl.metadata (6.4 kB)\n",
      "Collecting grpcio<2.0,>=1.24.3 (from tensorflow)\n",
      "  Using cached grpcio-1.71.0-cp312-cp312-manylinux_2_17_x86_64.manylinux2014_x86_64.whl.metadata (3.8 kB)\n",
      "Collecting tensorboard~=2.19.0 (from tensorflow)\n",
      "  Using cached tensorboard-2.19.0-py3-none-any.whl.metadata (1.8 kB)\n",
      "Requirement already satisfied: keras>=3.5.0 in /root/myenv/lib/python3.12/site-packages (from tensorflow) (3.9.2)\n",
      "Collecting numpy<2.2.0,>=1.26.0 (from tensorflow)\n",
      "  Using cached numpy-2.1.3-cp312-cp312-manylinux_2_17_x86_64.manylinux2014_x86_64.whl.metadata (62 kB)\n",
      "Requirement already satisfied: h5py>=3.11.0 in /root/myenv/lib/python3.12/site-packages (from tensorflow) (3.13.0)\n",
      "Requirement already satisfied: ml-dtypes<1.0.0,>=0.5.1 in /root/myenv/lib/python3.12/site-packages (from tensorflow) (0.5.1)\n",
      "Collecting wheel<1.0,>=0.23.0 (from astunparse>=1.6.0->tensorflow)\n",
      "  Using cached wheel-0.45.1-py3-none-any.whl.metadata (2.3 kB)\n",
      "Requirement already satisfied: rich in /root/myenv/lib/python3.12/site-packages (from keras>=3.5.0->tensorflow) (14.0.0)\n",
      "Requirement already satisfied: namex in /root/myenv/lib/python3.12/site-packages (from keras>=3.5.0->tensorflow) (0.0.9)\n",
      "Requirement already satisfied: optree in /root/myenv/lib/python3.12/site-packages (from keras>=3.5.0->tensorflow) (0.15.0)\n",
      "Requirement already satisfied: charset-normalizer<4,>=2 in /root/myenv/lib/python3.12/site-packages (from requests<3,>=2.21.0->tensorflow) (3.4.2)\n",
      "Requirement already satisfied: idna<4,>=2.5 in /root/myenv/lib/python3.12/site-packages (from requests<3,>=2.21.0->tensorflow) (3.10)\n",
      "Requirement already satisfied: urllib3<3,>=1.21.1 in /root/myenv/lib/python3.12/site-packages (from requests<3,>=2.21.0->tensorflow) (2.4.0)\n",
      "Requirement already satisfied: certifi>=2017.4.17 in /root/myenv/lib/python3.12/site-packages (from requests<3,>=2.21.0->tensorflow) (2025.4.26)\n",
      "Collecting markdown>=2.6.8 (from tensorboard~=2.19.0->tensorflow)\n",
      "  Using cached markdown-3.8-py3-none-any.whl.metadata (5.1 kB)\n",
      "Collecting tensorboard-data-server<0.8.0,>=0.7.0 (from tensorboard~=2.19.0->tensorflow)\n",
      "  Using cached tensorboard_data_server-0.7.2-py3-none-manylinux_2_31_x86_64.whl.metadata (1.1 kB)\n",
      "Collecting werkzeug>=1.0.1 (from tensorboard~=2.19.0->tensorflow)\n",
      "  Using cached werkzeug-3.1.3-py3-none-any.whl.metadata (3.7 kB)\n",
      "Requirement already satisfied: MarkupSafe>=2.1.1 in /root/myenv/lib/python3.12/site-packages (from werkzeug>=1.0.1->tensorboard~=2.19.0->tensorflow) (3.0.2)\n",
      "Requirement already satisfied: markdown-it-py>=2.2.0 in /root/myenv/lib/python3.12/site-packages (from rich->keras>=3.5.0->tensorflow) (3.0.0)\n",
      "Requirement already satisfied: pygments<3.0.0,>=2.13.0 in /root/myenv/lib/python3.12/site-packages (from rich->keras>=3.5.0->tensorflow) (2.19.1)\n",
      "Requirement already satisfied: mdurl~=0.1 in /root/myenv/lib/python3.12/site-packages (from markdown-it-py>=2.2.0->rich->keras>=3.5.0->tensorflow) (0.1.2)\n",
      "Downloading tensorflow-2.19.0-cp312-cp312-manylinux_2_17_x86_64.manylinux2014_x86_64.whl (645.0 MB)\n",
      "\u001b[2K   \u001b[90m━━━━━━━━━━━━━━━━━━━━━━━━━━━━━━━━━━━━━━━━\u001b[0m \u001b[32m645.0/645.0 MB\u001b[0m \u001b[31m2.0 MB/s\u001b[0m eta \u001b[36m0:00:00\u001b[0m00:01\u001b[0m00:05\u001b[0mm\n",
      "\u001b[?25hDownloading astunparse-1.6.3-py2.py3-none-any.whl (12 kB)\n",
      "Downloading flatbuffers-25.2.10-py2.py3-none-any.whl (30 kB)\n",
      "Downloading gast-0.6.0-py3-none-any.whl (21 kB)\n",
      "Downloading google_pasta-0.2.0-py3-none-any.whl (57 kB)\n",
      "\u001b[2K   \u001b[90m━━━━━━━━━━━━━━━━━━━━━━━━━━━━━━━━━━━━━━━━\u001b[0m \u001b[32m57.5/57.5 kB\u001b[0m \u001b[31m2.2 MB/s\u001b[0m eta \u001b[36m0:00:00\u001b[0m\n",
      "\u001b[?25hDownloading grpcio-1.71.0-cp312-cp312-manylinux_2_17_x86_64.manylinux2014_x86_64.whl (5.9 MB)\n",
      "\u001b[2K   \u001b[90m━━━━━━━━━━━━━━━━━━━━━━━━━━━━━━━━━━━━━━━━\u001b[0m \u001b[32m5.9/5.9 MB\u001b[0m \u001b[31m4.5 MB/s\u001b[0m eta \u001b[36m0:00:00\u001b[0m00:01\u001b[0m00:01\u001b[0mm\n",
      "\u001b[?25hDownloading libclang-18.1.1-py2.py3-none-manylinux2010_x86_64.whl (24.5 MB)\n",
      "\u001b[2K   \u001b[90m━━━━━━━━━━━━━━━━━━━━━━━━━━━━━━━━━━━━━━━━\u001b[0m \u001b[32m24.5/24.5 MB\u001b[0m \u001b[31m2.3 MB/s\u001b[0m eta \u001b[36m0:00:00\u001b[0m00:01\u001b[0m00:01\u001b[0m\n",
      "\u001b[?25hDownloading numpy-2.1.3-cp312-cp312-manylinux_2_17_x86_64.manylinux2014_x86_64.whl (16.0 MB)\n",
      "\u001b[2K   \u001b[90m━━━━━━━━━━━━━━━━━━━━━━━━━━━━━━━━━━━━━━━━\u001b[0m \u001b[32m16.0/16.0 MB\u001b[0m \u001b[31m2.1 MB/s\u001b[0m eta \u001b[36m0:00:00\u001b[0m00:01\u001b[0m00:01\u001b[0mm\n",
      "\u001b[?25hDownloading opt_einsum-3.4.0-py3-none-any.whl (71 kB)\n",
      "\u001b[2K   \u001b[90m━━━━━━━━━━━━━━━━━━━━━━━━━━━━━━━━━━━━━━━━\u001b[0m \u001b[32m71.9/71.9 kB\u001b[0m \u001b[31m804.0 kB/s\u001b[0m eta \u001b[36m0:00:00\u001b[0m0:01\u001b[0m\n",
      "\u001b[?25hDownloading protobuf-5.29.4-cp38-abi3-manylinux2014_x86_64.whl (319 kB)\n",
      "\u001b[2K   \u001b[90m━━━━━━━━━━━━━━━━━━━━━━━━━━━━━━━━━━━━━━━━\u001b[0m \u001b[32m319.7/319.7 kB\u001b[0m \u001b[31m3.4 MB/s\u001b[0m eta \u001b[36m0:00:00\u001b[0m:00:01\u001b[0m\n",
      "\u001b[?25hDownloading tensorboard-2.19.0-py3-none-any.whl (5.5 MB)\n",
      "\u001b[2K   \u001b[90m━━━━━━━━━━━━━━━━━━━━━━━━━━━━━━━━━━━━━━━━\u001b[0m \u001b[32m5.5/5.5 MB\u001b[0m \u001b[31m6.8 MB/s\u001b[0m eta \u001b[36m0:00:00\u001b[0m00:01\u001b[0m00:01\u001b[0mm\n",
      "\u001b[?25hDownloading termcolor-3.1.0-py3-none-any.whl (7.7 kB)\n",
      "Downloading wrapt-1.17.2-cp312-cp312-manylinux_2_5_x86_64.manylinux1_x86_64.manylinux_2_17_x86_64.manylinux2014_x86_64.whl (89 kB)\n",
      "\u001b[2K   \u001b[90m━━━━━━━━━━━━━━━━━━━━━━━━━━━━━━━━━━━━━━━━\u001b[0m \u001b[32m89.2/89.2 kB\u001b[0m \u001b[31m989.1 kB/s\u001b[0m eta \u001b[36m0:00:00\u001b[0m \u001b[36m0:00:01\u001b[0m\n",
      "\u001b[?25hDownloading markdown-3.8-py3-none-any.whl (106 kB)\n",
      "\u001b[2K   \u001b[90m━━━━━━━━━━━━━━━━━━━━━━━━━━━━━━━━━━━━━━━━\u001b[0m \u001b[32m106.2/106.2 kB\u001b[0m \u001b[31m1.3 MB/s\u001b[0m eta \u001b[36m0:00:00\u001b[0mta \u001b[36m0:00:01\u001b[0m\n",
      "\u001b[?25hDownloading tensorboard_data_server-0.7.2-py3-none-manylinux_2_31_x86_64.whl (6.6 MB)\n",
      "\u001b[2K   \u001b[90m━━━━━━━━━━━━━━━━━━━━━━━━━━━━━━━━━━━━━━━━\u001b[0m \u001b[32m6.6/6.6 MB\u001b[0m \u001b[31m3.0 MB/s\u001b[0m eta \u001b[36m0:00:00\u001b[0m00:01\u001b[0m00:01\u001b[0m\n",
      "\u001b[?25hDownloading werkzeug-3.1.3-py3-none-any.whl (224 kB)\n",
      "\u001b[2K   \u001b[90m━━━━━━━━━━━━━━━━━━━━━━━━━━━━━━━━━━━━━━━━\u001b[0m \u001b[32m224.5/224.5 kB\u001b[0m \u001b[31m1.9 MB/s\u001b[0m eta \u001b[36m0:00:00\u001b[0ma \u001b[36m0:00:01\u001b[0m\n",
      "\u001b[?25hDownloading wheel-0.45.1-py3-none-any.whl (72 kB)\n",
      "\u001b[2K   \u001b[90m━━━━━━━━━━━━━━━━━━━━━━━━━━━━━━━━━━━━━━━━\u001b[0m \u001b[32m72.5/72.5 kB\u001b[0m \u001b[31m791.9 kB/s\u001b[0m eta \u001b[36m0:00:00\u001b[0m0:01\u001b[0m\n",
      "\u001b[?25hInstalling collected packages: libclang, flatbuffers, wrapt, wheel, werkzeug, termcolor, tensorboard-data-server, protobuf, opt-einsum, numpy, markdown, grpcio, google-pasta, gast, tensorboard, astunparse, tensorflow\n",
      "  Attempting uninstall: numpy\n",
      "    Found existing installation: numpy 2.2.5\n",
      "    Uninstalling numpy-2.2.5:\n",
      "      Successfully uninstalled numpy-2.2.5\n",
      "Successfully installed astunparse-1.6.3 flatbuffers-25.2.10 gast-0.6.0 google-pasta-0.2.0 grpcio-1.71.0 libclang-18.1.1 markdown-3.8 numpy-2.1.3 opt-einsum-3.4.0 protobuf-5.29.4 tensorboard-2.19.0 tensorboard-data-server-0.7.2 tensorflow-2.19.0 termcolor-3.1.0 werkzeug-3.1.3 wheel-0.45.1 wrapt-1.17.2\n",
      "Requirement already satisfied: matplotlib in /root/myenv/lib/python3.12/site-packages (3.10.1)\n",
      "Requirement already satisfied: contourpy>=1.0.1 in /root/myenv/lib/python3.12/site-packages (from matplotlib) (1.3.2)\n",
      "Requirement already satisfied: cycler>=0.10 in /root/myenv/lib/python3.12/site-packages (from matplotlib) (0.12.1)\n",
      "Requirement already satisfied: fonttools>=4.22.0 in /root/myenv/lib/python3.12/site-packages (from matplotlib) (4.57.0)\n",
      "Requirement already satisfied: kiwisolver>=1.3.1 in /root/myenv/lib/python3.12/site-packages (from matplotlib) (1.4.8)\n",
      "Requirement already satisfied: numpy>=1.23 in /root/myenv/lib/python3.12/site-packages (from matplotlib) (2.1.3)\n",
      "Requirement already satisfied: packaging>=20.0 in /root/myenv/lib/python3.12/site-packages (from matplotlib) (25.0)\n",
      "Requirement already satisfied: pillow>=8 in /root/myenv/lib/python3.12/site-packages (from matplotlib) (11.2.1)\n",
      "Requirement already satisfied: pyparsing>=2.3.1 in /root/myenv/lib/python3.12/site-packages (from matplotlib) (3.2.3)\n",
      "Requirement already satisfied: python-dateutil>=2.7 in /root/myenv/lib/python3.12/site-packages (from matplotlib) (2.9.0.post0)\n",
      "Requirement already satisfied: six>=1.5 in /root/myenv/lib/python3.12/site-packages (from python-dateutil>=2.7->matplotlib) (1.17.0)\n"
     ]
    }
   ],
   "source": [
    "!pip install tensorflow\n",
    "!pip install matplotlib"
   ]
  },
  {
   "cell_type": "code",
   "execution_count": 7,
   "id": "67132404-cfe2-42b7-a0fd-ef1e3daa75e0",
   "metadata": {},
   "outputs": [
    {
     "name": "stderr",
     "output_type": "stream",
     "text": [
      "2025-05-13 12:16:11.149410: I external/local_xla/xla/tsl/cuda/cudart_stub.cc:32] Could not find cuda drivers on your machine, GPU will not be used.\n",
      "2025-05-13 12:16:11.406354: I external/local_xla/xla/tsl/cuda/cudart_stub.cc:32] Could not find cuda drivers on your machine, GPU will not be used.\n",
      "2025-05-13 12:16:11.579513: E external/local_xla/xla/stream_executor/cuda/cuda_fft.cc:467] Unable to register cuFFT factory: Attempting to register factory for plugin cuFFT when one has already been registered\n",
      "WARNING: All log messages before absl::InitializeLog() is called are written to STDERR\n",
      "E0000 00:00:1747134971.785378   10524 cuda_dnn.cc:8579] Unable to register cuDNN factory: Attempting to register factory for plugin cuDNN when one has already been registered\n",
      "E0000 00:00:1747134971.853983   10524 cuda_blas.cc:1407] Unable to register cuBLAS factory: Attempting to register factory for plugin cuBLAS when one has already been registered\n",
      "W0000 00:00:1747134972.253988   10524 computation_placer.cc:177] computation placer already registered. Please check linkage and avoid linking the same target more than once.\n",
      "W0000 00:00:1747134972.254025   10524 computation_placer.cc:177] computation placer already registered. Please check linkage and avoid linking the same target more than once.\n",
      "W0000 00:00:1747134972.254027   10524 computation_placer.cc:177] computation placer already registered. Please check linkage and avoid linking the same target more than once.\n",
      "W0000 00:00:1747134972.254029   10524 computation_placer.cc:177] computation placer already registered. Please check linkage and avoid linking the same target more than once.\n",
      "2025-05-13 12:16:12.299771: I tensorflow/core/platform/cpu_feature_guard.cc:210] This TensorFlow binary is optimized to use available CPU instructions in performance-critical operations.\n",
      "To enable the following instructions: AVX2 FMA, in other operations, rebuild TensorFlow with the appropriate compiler flags.\n"
     ]
    }
   ],
   "source": [
    "# Importing libraries\n",
    "import numpy as np\n",
    "import pandas as pd\n",
    "import matplotlib.pyplot as plt\n",
    "from tensorflow.keras.models import Model\n",
    "from tensorflow.keras.layers import Input, Dense, Reshape, Flatten\n",
    "from tensorflow.keras.layers import BatchNormalization, LeakyReLU\n",
    "from tensorflow.keras.layers import Conv2D, Conv2DTranspose\n",
    "from tensorflow.keras.optimizers import Adam\n",
    "from tensorflow.keras.losses import MeanSquaredError\n",
    "from sklearn.preprocessing import StandardScaler"
   ]
  },
  {
   "cell_type": "code",
   "execution_count": 9,
   "id": "c091c9e3-7dab-47f6-b48b-158b1267d774",
   "metadata": {},
   "outputs": [],
   "source": [
    "from sklearn.ensemble import IsolationForest"
   ]
  },
  {
   "cell_type": "code",
   "execution_count": 10,
   "id": "dea5ca04-b6d7-48ee-a68a-a594e127dde9",
   "metadata": {},
   "outputs": [],
   "source": [
    "# Load the preprocessed dataset\n",
    "df = pd.read_csv('preprocessed_power_consumption.csv', index_col='Timestamp')\n",
    "\n",
    "# Select relevant features for anomaly detection\n",
    "features = ['Voltage', 'Global_active_power', 'Global_intensity']\n",
    "X = df[features]"
   ]
  },
  {
   "cell_type": "code",
   "execution_count": 4,
   "id": "80e4a9b0-92c2-44b7-9b0a-0a87161c547e",
   "metadata": {},
   "outputs": [
    {
     "ename": "NameError",
     "evalue": "name 'IsolationForest' is not defined",
     "output_type": "error",
     "traceback": [
      "\u001b[31m---------------------------------------------------------------------------\u001b[39m",
      "\u001b[31mNameError\u001b[39m                                 Traceback (most recent call last)",
      "\u001b[36mCell\u001b[39m\u001b[36m \u001b[39m\u001b[32mIn[4]\u001b[39m\u001b[32m, line 3\u001b[39m\n\u001b[32m      1\u001b[39m \u001b[38;5;66;03m# **1. Isolation Forest for Fault Detection**\u001b[39;00m\n\u001b[32m      2\u001b[39m \u001b[38;5;66;03m# Initialize Isolation Forest model\u001b[39;00m\n\u001b[32m----> \u001b[39m\u001b[32m3\u001b[39m model_iforest = \u001b[43mIsolationForest\u001b[49m(n_estimators=\u001b[32m200\u001b[39m, contamination=\u001b[32m0.05\u001b[39m, max_samples=\u001b[32m0.9\u001b[39m, random_state=\u001b[32m42\u001b[39m)\n\u001b[32m      4\u001b[39m model_iforest.fit(X)  \u001b[38;5;66;03m# Train the model on the selected features\u001b[39;00m\n\u001b[32m      6\u001b[39m \u001b[38;5;66;03m# Predict anomalies using Isolation Forest\u001b[39;00m\n",
      "\u001b[31mNameError\u001b[39m: name 'IsolationForest' is not defined"
     ]
    }
   ],
   "source": [
    "# **1. Isolation Forest for Fault Detection**\n",
    "# Initialize Isolation Forest model\n",
    "model_iforest = IsolationForest(n_estimators=200, contamination=0.05, max_samples=0.9, random_state=42)\n",
    "model_iforest.fit(X)  # Train the model on the selected features\n",
    "\n",
    "# Predict anomalies using Isolation Forest\n",
    "df['anomaly_iforest'] = model_iforest.predict(X)  # -1 for anomaly, 1 for normal\n",
    "df['anomaly_iforest'] = df['anomaly_iforest'].map({1: 'Normal', -1: 'Anomaly'})  # Map the predictions\n"
   ]
  },
  {
   "cell_type": "code",
   "execution_count": 12,
   "id": "9f8bed64-bf94-4ff1-8e49-6eb6ff1c1abc",
   "metadata": {},
   "outputs": [
    {
     "data": {
      "text/plain": [
       "\"# Define Autoencoder model structure\\ninput_layer = Input(shape=(X_scaled.shape[1],))\\nencoded = Dense(128, activation='relu')(input_layer)  # Encoder layer\\ndecoded = Dense(X_scaled.shape[1], activation='sigmoid')(encoded)  # Decoder layer (reconstruction)\\n\\nautoencoder = Model(input_layer, decoded)\\nautoencoder.compile(optimizer='adam', loss='mean_squared_error')\""
      ]
     },
     "execution_count": 12,
     "metadata": {},
     "output_type": "execute_result"
    }
   ],
   "source": [
    "# **2. Autoencoders for Anomaly Detection**\n",
    "# Normalize the data before passing to Autoencoder\n",
    "from sklearn.preprocessing import MinMaxScaler\n",
    "scaler = MinMaxScaler()\n",
    "X_scaled = scaler.fit_transform(X)\n",
    "\n",
    "'''# Define Autoencoder model structure\n",
    "input_layer = Input(shape=(X_scaled.shape[1],))\n",
    "encoded = Dense(128, activation='relu')(input_layer)  # Encoder layer\n",
    "decoded = Dense(X_scaled.shape[1], activation='sigmoid')(encoded)  # Decoder layer (reconstruction)\n",
    "\n",
    "autoencoder = Model(input_layer, decoded)\n",
    "autoencoder.compile(optimizer='adam', loss='mean_squared_error')'''\n"
   ]
  },
  {
   "cell_type": "code",
   "execution_count": null,
   "id": "0782b364-3163-4b19-8174-f21faa08789c",
   "metadata": {},
   "outputs": [],
   "source": [
    "# Train Autoencoder model\n",
    "autoencoder.fit(X_scaled, X_scaled, epochs=50, batch_size=256, shuffle=True, validation_data=(X_scaled, X_scaled))\n",
    "\n",
    "# **Anomaly detection with Autoencoders**\n",
    "reconstructed = autoencoder.predict(X_scaled)  # Reconstructed data from Autoencoder\n",
    "reconstruction_error = np.mean(np.abs(reconstructed - X_scaled), axis=1)  # Reconstruction error\n",
    "\n",
    "# Set threshold for anomaly detection (top 5% reconstruction errors)\n",
    "threshold = np.percentile(reconstruction_error, 95)\n",
    "df['anomaly_autoencoder'] = (reconstruction_error > threshold).astype(int)  # 1 for anomaly, 0 for normal\n"
   ]
  },
  {
   "cell_type": "code",
   "execution_count": 18,
   "id": "bff4e287-454c-4676-b354-ef1572bcc5f5",
   "metadata": {},
   "outputs": [],
   "source": [
    "df['fault']=Outlier_lof"
   ]
  },
  {
   "cell_type": "code",
   "execution_count": null,
   "id": "9e49f230-c52d-4259-8aad-2fa68ec03702",
   "metadata": {},
   "outputs": [],
   "source": [
    "# **3. Evaluate the Performance**\n",
    "# Assuming we have labels or a threshold for detecting faults, we can evaluate performance.\n",
    "# For demonstration, assume anomalies detected by both methods are potential faults.\n",
    "\n",
    "# Displaying first few rows with anomalies labeled\n",
    "print(\"\\nFirst few rows with anomaly labels:\")\n",
    "print(df[['Voltage', 'Global_active_power', 'anomaly_iforest', 'anomaly_autoencoder']].head(10))\n"
   ]
  },
  {
   "cell_type": "code",
   "execution_count": null,
   "id": "347bd2ee-24d5-4353-879f-3f24112a4653",
   "metadata": {},
   "outputs": [],
   "source": [
    "# **4. Evaluate Model Performance using Precision, Recall, F1 Score**\n",
    "# Here, we assume that anomalies labeled by 'anomaly_iforest' or 'anomaly_autoencoder' are the faults.\n",
    "y_true = (df['anomaly_iforest'] == 'Anomaly').astype(int)  # True labels for faults\n",
    "y_pred_iforest = (df['anomaly_iforest'] == 'Anomaly').astype(int)  # Predicted anomalies by Isolation Forest\n",
    "y_pred_autoencoder = df['anomaly_autoencoder']  # Predicted anomalies by Autoencoder\n",
    "\n",
    "# Evaluation for Isolation Forest\n",
    "from sklearn.metrics import accuracy_score, precision_score, recall_score, f1_score\n",
    "print(\"\\nIsolation Forest Model Evaluation:\")\n",
    "print(f\"Accuracy: {accuracy_score(y_true, y_pred_iforest):.4f}\")\n",
    "print(f\"Precision: {precision_score(y_true, y_pred_iforest):.4f}\")\n",
    "print(f\"Recall: {recall_score(y_true, y_pred_iforest):.4f}\")\n",
    "print(f\"F1 Score: {f1_score(y_true, y_pred_iforest):.4f}\")\n",
    "print(\"\\nClassification Report for Isolation Forest:\\n\", classification_report(y_true, y_pred_iforest))\n"
   ]
  },
  {
   "cell_type": "code",
   "execution_count": null,
   "id": "c595018c-2fe6-4493-aab7-869c5128a1f2",
   "metadata": {},
   "outputs": [],
   "source": [
    "# Evaluation for Autoencoder\n",
    "print(\"\\nAutoencoder Model Evaluation:\")\n",
    "print(f\"Accuracy: {accuracy_score(y_true, y_pred_autoencoder):.4f}\")\n",
    "print(f\"Precision: {precision_score(y_true, y_pred_autoencoder):.4f}\")\n",
    "print(f\"Recall: {recall_score(y_true, y_pred_autoencoder):.4f}\")\n",
    "print(f\"F1 Score: {f1_score(y_true, y_pred_autoencoder):.4f}\")\n",
    "print(\"\\nClassification Report for Autoencoder:\\n\", classification_report(y_true, y_pred_autoencoder))\n"
   ]
  },
  {
   "cell_type": "code",
   "execution_count": null,
   "id": "4d67901d-9eba-4b8b-b77f-ea3dd1c6203a",
   "metadata": {},
   "outputs": [],
   "source": [
    "# **Visualize Anomalies**\n",
    "plt.figure(figsize=(12, 6))\n",
    "plt.subplot(2, 1, 1)\n",
    "plt.scatter(df.index, df['Voltage'], c=df['anomaly_iforest'].map({'Normal': 'blue', 'Anomaly': 'red'}), label='Anomalies')\n",
    "plt.title('Anomalies in Voltage (Isolation Forest)')\n",
    "plt.xlabel('Time')\n",
    "plt.ylabel('Voltage (V)')\n",
    "plt.legend()\n",
    "\n",
    "plt.subplot(2, 1, 2)\n",
    "plt.scatter(df.index, df['Voltage'], c=df['anomaly_autoencoder'].map({0: 'blue', 1: 'red'}), label='Anomalies')\n",
    "plt.title('Anomalies in Voltage (Autoencoder)')\n",
    "plt.xlabel('Time')\n",
    "plt.ylabel('Voltage (V)')\n",
    "plt.legend()\n",
    "\n",
    "plt.tight_layout()\n",
    "plt.show()"
   ]
  },
  {
   "cell_type": "code",
   "execution_count": 22,
   "id": "58b0b433-e8d1-4b51-b5c0-f2207aa8ddf4",
   "metadata": {},
   "outputs": [],
   "source": [
    "# Building the encoder\n",
    "encoder_input = Input(shape=(X_scaled.shape[1],))\n",
    "x = Dense(128, activation='relu')(encoder_input)\n",
    "x = BatchNormalization()(x)\n",
    "x = LeakyReLU()(x)\n",
    "x = Dense(64, activation='relu')(x)\n",
    "x = BatchNormalization()(x)\n",
    "x = LeakyReLU()(x)\n",
    "encoder_output = Dense(X_scaled.shape[1], activation='sigmoid')(x)\n",
    "\n",
    "\n",
    "\n",
    "\n",
    "\n"
   ]
  },
  {
   "cell_type": "code",
   "execution_count": 33,
   "id": "49f379be-e486-44c5-a590-d6cdd17ebab7",
   "metadata": {},
   "outputs": [
    {
     "data": {
      "text/plain": [
       "(2075259, 3)"
      ]
     },
     "execution_count": 33,
     "metadata": {},
     "output_type": "execute_result"
    }
   ],
   "source": [
    "X_scaled.shape"
   ]
  },
  {
   "cell_type": "code",
   "execution_count": 31,
   "id": "65815b0e-9312-4118-b873-071c23713323",
   "metadata": {},
   "outputs": [
    {
     "name": "stdout",
     "output_type": "stream",
     "text": [
      "Epoch 1/100\n"
     ]
    },
    {
     "ename": "KeyError",
     "evalue": "'Exception encountered when calling Functional.call().\\n\\n\\x1b[1m140687093915264\\x1b[0m\\n\\nArguments received by Functional.call():\\n  • inputs=tf.Tensor(shape=(None, 784), dtype=float32)\\n  • training=True\\n  • mask=None'",
     "output_type": "error",
     "traceback": [
      "\u001b[31m---------------------------------------------------------------------------\u001b[39m",
      "\u001b[31mKeyError\u001b[39m                                  Traceback (most recent call last)",
      "\u001b[36mCell\u001b[39m\u001b[36m \u001b[39m\u001b[32mIn[31]\u001b[39m\u001b[32m, line 30\u001b[39m\n\u001b[32m     27\u001b[39m autoencoder.compile(optimizer=Adam(learning_rate=\u001b[32m0.001\u001b[39m), loss=MeanSquaredError())\n\u001b[32m     29\u001b[39m \u001b[38;5;66;03m# Training the autoencoder\u001b[39;00m\n\u001b[32m---> \u001b[39m\u001b[32m30\u001b[39m \u001b[43mautoencoder\u001b[49m\u001b[43m.\u001b[49m\u001b[43mfit\u001b[49m\u001b[43m(\u001b[49m\u001b[43mnp\u001b[49m\u001b[43m.\u001b[49m\u001b[43mrandom\u001b[49m\u001b[43m.\u001b[49m\u001b[43mrand\u001b[49m\u001b[43m(\u001b[49m\u001b[32;43m100\u001b[39;49m\u001b[43m,\u001b[49m\u001b[43m \u001b[49m\u001b[32;43m784\u001b[39;49m\u001b[43m)\u001b[49m\u001b[43m,\u001b[49m\u001b[43m \u001b[49m\u001b[43mnp\u001b[49m\u001b[43m.\u001b[49m\u001b[43mrandom\u001b[49m\u001b[43m.\u001b[49m\u001b[43mrand\u001b[49m\u001b[43m(\u001b[49m\u001b[32;43m100\u001b[39;49m\u001b[43m,\u001b[49m\u001b[43m \u001b[49m\u001b[32;43m784\u001b[39;49m\u001b[43m)\u001b[49m\u001b[43m,\u001b[49m\u001b[43m \u001b[49m\u001b[43mepochs\u001b[49m\u001b[43m=\u001b[49m\u001b[32;43m100\u001b[39;49m\u001b[43m,\u001b[49m\u001b[43m \u001b[49m\u001b[43mbatch_size\u001b[49m\u001b[43m=\u001b[49m\u001b[32;43m32\u001b[39;49m\u001b[43m)\u001b[49m\n",
      "\u001b[36mFile \u001b[39m\u001b[32m~/myenv/lib/python3.12/site-packages/keras/src/utils/traceback_utils.py:122\u001b[39m, in \u001b[36mfilter_traceback.<locals>.error_handler\u001b[39m\u001b[34m(*args, **kwargs)\u001b[39m\n\u001b[32m    119\u001b[39m     filtered_tb = _process_traceback_frames(e.__traceback__)\n\u001b[32m    120\u001b[39m     \u001b[38;5;66;03m# To get the full stack trace, call:\u001b[39;00m\n\u001b[32m    121\u001b[39m     \u001b[38;5;66;03m# `keras.config.disable_traceback_filtering()`\u001b[39;00m\n\u001b[32m--> \u001b[39m\u001b[32m122\u001b[39m     \u001b[38;5;28;01mraise\u001b[39;00m e.with_traceback(filtered_tb) \u001b[38;5;28;01mfrom\u001b[39;00m\u001b[38;5;250m \u001b[39m\u001b[38;5;28;01mNone\u001b[39;00m\n\u001b[32m    123\u001b[39m \u001b[38;5;28;01mfinally\u001b[39;00m:\n\u001b[32m    124\u001b[39m     \u001b[38;5;28;01mdel\u001b[39;00m filtered_tb\n",
      "\u001b[36mFile \u001b[39m\u001b[32m~/myenv/lib/python3.12/site-packages/keras/src/ops/function.py:179\u001b[39m, in \u001b[36mFunction._run_through_graph\u001b[39m\u001b[34m(self, inputs, operation_fn, call_fn)\u001b[39m\n\u001b[32m    177\u001b[39m output_tensors = []\n\u001b[32m    178\u001b[39m \u001b[38;5;28;01mfor\u001b[39;00m x \u001b[38;5;129;01min\u001b[39;00m \u001b[38;5;28mself\u001b[39m.outputs:\n\u001b[32m--> \u001b[39m\u001b[32m179\u001b[39m     output_tensors.append(\u001b[43mtensor_dict\u001b[49m\u001b[43m[\u001b[49m\u001b[38;5;28;43mid\u001b[39;49m\u001b[43m(\u001b[49m\u001b[43mx\u001b[49m\u001b[43m)\u001b[49m\u001b[43m]\u001b[49m)\n\u001b[32m    181\u001b[39m \u001b[38;5;28;01mreturn\u001b[39;00m tree.pack_sequence_as(\u001b[38;5;28mself\u001b[39m._outputs_struct, output_tensors)\n",
      "\u001b[31mKeyError\u001b[39m: 'Exception encountered when calling Functional.call().\\n\\n\\x1b[1m140687093915264\\x1b[0m\\n\\nArguments received by Functional.call():\\n  • inputs=tf.Tensor(shape=(None, 784), dtype=float32)\\n  • training=True\\n  • mask=None'"
     ]
    }
   ],
   "source": [
    "# Importing libraries\n",
    "import numpy as np\n",
    "from tensorflow.keras.models import Model\n",
    "from tensorflow.keras.layers import Input, Dense, Reshape, Flatten\n",
    "from tensorflow.keras.layers import BatchNormalization, LeakyReLU\n",
    "\n",
    "# Building the autoencoder\n",
    "encoder_input = Input(shape=(784,))\n",
    "x = Dense(128, activation='relu')(encoder_input)\n",
    "x = BatchNormalization()(x)\n",
    "x = LeakyReLU()(x)\n",
    "x = Dense(64, activation='relu')(x)\n",
    "x = BatchNormalization()(x)\n",
    "x = LeakyReLU()(x)\n",
    "encoder_output = Dense(784, activation='sigmoid')(x)\n",
    "\n",
    "decoder_input = Input(shape=(784,))\n",
    "x = Dense(64, activation='relu')(decoder_input)\n",
    "x = BatchNormalization()(x)\n",
    "x = LeakyReLU()(x)\n",
    "x = Dense(128, activation='relu')(x)\n",
    "x = BatchNormalization()(x)\n",
    "x = LeakyReLU()(x)\n",
    "decoder_output = Dense(784, activation='sigmoid')(x)\n",
    "\n",
    "autoencoder = Model(inputs=encoder_input, outputs=decoder_output)\n",
    "autoencoder.compile(optimizer=Adam(learning_rate=0.001), loss=MeanSquaredError())\n",
    "\n",
    "# Training the autoencoder\n",
    "autoencoder.fit(np.random.rand(100, 784), np.random.rand(100, 784), epochs=100, batch_size=32)"
   ]
  },
  {
   "cell_type": "code",
   "execution_count": 34,
   "id": "3ca3d9f8-44f8-406e-a64c-66b5307206ec",
   "metadata": {},
   "outputs": [
    {
     "data": {
      "text/plain": [
       "<KerasTensor shape=(None, 128), dtype=float32, sparse=False, ragged=False, name=keras_tensor_102>"
      ]
     },
     "execution_count": 34,
     "metadata": {},
     "output_type": "execute_result"
    }
   ],
   "source": [
    "x"
   ]
  },
  {
   "cell_type": "code",
   "execution_count": 37,
   "id": "89c189a0-ab15-4a78-b4ef-90b2f81715dc",
   "metadata": {},
   "outputs": [
    {
     "data": {
      "text/plain": [
       "<KerasTensor shape=(None, 784), dtype=float32, sparse=False, ragged=False, name=keras_tensor_88>"
      ]
     },
     "execution_count": 37,
     "metadata": {},
     "output_type": "execute_result"
    }
   ],
   "source": [
    "autoencoder.input"
   ]
  },
  {
   "cell_type": "code",
   "execution_count": 55,
   "id": "52976ad9-ec62-4bd1-b00a-35baa50f2789",
   "metadata": {},
   "outputs": [],
   "source": [
    "#help(Input)"
   ]
  },
  {
   "cell_type": "code",
   "execution_count": 23,
   "id": "bc1a7f94-5d56-44f1-bf0e-2cc44ac0f16e",
   "metadata": {},
   "outputs": [],
   "source": [
    "# Building the decoder\n",
    "decoder_input = Input(shape=(X_scaled.shape[1],))\n",
    "x = Dense(64, activation='relu')(decoder_input)\n",
    "x = BatchNormalization()(x)\n",
    "x = LeakyReLU()(x)\n",
    "x = Dense(128, activation='relu')(x)\n",
    "x = BatchNormalization()(x)\n",
    "x = LeakyReLU()(x)\n",
    "decoder_output = Dense(X_scaled.shape[1], activation='sigmoid')(x)"
   ]
  },
  {
   "cell_type": "code",
   "execution_count": null,
   "id": "e0316577-1189-4d52-a2a1-3ad89c65dbde",
   "metadata": {},
   "outputs": [],
   "source": []
  },
  {
   "cell_type": "code",
   "execution_count": 24,
   "id": "644a154d-3858-43dd-a860-137e78b5d8ec",
   "metadata": {},
   "outputs": [],
   "source": [
    "# Building the autoencoder\n",
    "autoencoder = Model(inputs=encoder_input, outputs=decoder_output)\n",
    "autoencoder.compile(optimizer=Adam(learning_rate=0.001), loss=MeanSquaredError())"
   ]
  },
  {
   "cell_type": "code",
   "execution_count": 25,
   "id": "10fc893d-16a1-4620-ba2d-cdb36831fb8e",
   "metadata": {},
   "outputs": [
    {
     "name": "stdout",
     "output_type": "stream",
     "text": [
      "Epoch 1/20\n"
     ]
    },
    {
     "ename": "KeyError",
     "evalue": "'Exception encountered when calling Functional.call().\\n\\n\\x1b[1m140687973295664\\x1b[0m\\n\\nArguments received by Functional.call():\\n  • inputs=tf.Tensor(shape=(None, 3), dtype=float32)\\n  • training=True\\n  • mask=None'",
     "output_type": "error",
     "traceback": [
      "\u001b[31m---------------------------------------------------------------------------\u001b[39m",
      "\u001b[31mKeyError\u001b[39m                                  Traceback (most recent call last)",
      "\u001b[36mCell\u001b[39m\u001b[36m \u001b[39m\u001b[32mIn[25]\u001b[39m\u001b[32m, line 2\u001b[39m\n\u001b[32m      1\u001b[39m \u001b[38;5;66;03m# Training the autoencoder\u001b[39;00m\n\u001b[32m----> \u001b[39m\u001b[32m2\u001b[39m \u001b[43mautoencoder\u001b[49m\u001b[43m.\u001b[49m\u001b[43mfit\u001b[49m\u001b[43m(\u001b[49m\u001b[43mX_scaled\u001b[49m\u001b[43m,\u001b[49m\u001b[43m \u001b[49m\u001b[43mX_scaled\u001b[49m\u001b[43m,\u001b[49m\u001b[43m \u001b[49m\u001b[43mepochs\u001b[49m\u001b[43m=\u001b[49m\u001b[32;43m20\u001b[39;49m\u001b[43m,\u001b[49m\u001b[43m \u001b[49m\u001b[43mbatch_size\u001b[49m\u001b[43m=\u001b[49m\u001b[32;43m32\u001b[39;49m\u001b[43m,\u001b[49m\u001b[43m \u001b[49m\u001b[43mvalidation_data\u001b[49m\u001b[43m=\u001b[49m\u001b[43m(\u001b[49m\u001b[43mX_scaled\u001b[49m\u001b[43m,\u001b[49m\u001b[43m \u001b[49m\u001b[43mX_scaled\u001b[49m\u001b[43m)\u001b[49m\u001b[43m)\u001b[49m\n",
      "\u001b[36mFile \u001b[39m\u001b[32m~/myenv/lib/python3.12/site-packages/keras/src/utils/traceback_utils.py:122\u001b[39m, in \u001b[36mfilter_traceback.<locals>.error_handler\u001b[39m\u001b[34m(*args, **kwargs)\u001b[39m\n\u001b[32m    119\u001b[39m     filtered_tb = _process_traceback_frames(e.__traceback__)\n\u001b[32m    120\u001b[39m     \u001b[38;5;66;03m# To get the full stack trace, call:\u001b[39;00m\n\u001b[32m    121\u001b[39m     \u001b[38;5;66;03m# `keras.config.disable_traceback_filtering()`\u001b[39;00m\n\u001b[32m--> \u001b[39m\u001b[32m122\u001b[39m     \u001b[38;5;28;01mraise\u001b[39;00m e.with_traceback(filtered_tb) \u001b[38;5;28;01mfrom\u001b[39;00m\u001b[38;5;250m \u001b[39m\u001b[38;5;28;01mNone\u001b[39;00m\n\u001b[32m    123\u001b[39m \u001b[38;5;28;01mfinally\u001b[39;00m:\n\u001b[32m    124\u001b[39m     \u001b[38;5;28;01mdel\u001b[39;00m filtered_tb\n",
      "\u001b[36mFile \u001b[39m\u001b[32m~/myenv/lib/python3.12/site-packages/keras/src/ops/function.py:179\u001b[39m, in \u001b[36mFunction._run_through_graph\u001b[39m\u001b[34m(self, inputs, operation_fn, call_fn)\u001b[39m\n\u001b[32m    177\u001b[39m output_tensors = []\n\u001b[32m    178\u001b[39m \u001b[38;5;28;01mfor\u001b[39;00m x \u001b[38;5;129;01min\u001b[39;00m \u001b[38;5;28mself\u001b[39m.outputs:\n\u001b[32m--> \u001b[39m\u001b[32m179\u001b[39m     output_tensors.append(\u001b[43mtensor_dict\u001b[49m\u001b[43m[\u001b[49m\u001b[38;5;28;43mid\u001b[39;49m\u001b[43m(\u001b[49m\u001b[43mx\u001b[49m\u001b[43m)\u001b[49m\u001b[43m]\u001b[49m)\n\u001b[32m    181\u001b[39m \u001b[38;5;28;01mreturn\u001b[39;00m tree.pack_sequence_as(\u001b[38;5;28mself\u001b[39m._outputs_struct, output_tensors)\n",
      "\u001b[31mKeyError\u001b[39m: 'Exception encountered when calling Functional.call().\\n\\n\\x1b[1m140687973295664\\x1b[0m\\n\\nArguments received by Functional.call():\\n  • inputs=tf.Tensor(shape=(None, 3), dtype=float32)\\n  • training=True\\n  • mask=None'"
     ]
    }
   ],
   "source": [
    "# Training the autoencoder\n",
    "autoencoder.fit(X_scaled, X_scaled, epochs=20, batch_size=32, validation_data=(X_scaled, X_scaled))"
   ]
  },
  {
   "cell_type": "code",
   "execution_count": null,
   "id": "c372c5cc-c44d-4881-95ea-b2b3a83ed89e",
   "metadata": {},
   "outputs": [],
   "source": []
  },
  {
   "cell_type": "code",
   "execution_count": 40,
   "id": "97d6b5d4-0930-4247-b715-5f82927e56b0",
   "metadata": {},
   "outputs": [],
   "source": [
    "CODE_DIM = 2\n",
    "INPUT_SHAPE = X_scaled.shape[1]\n",
    "\n",
    "input_layer = Input(shape=(INPUT_SHAPE,))\n",
    "x = Dense(64, activation='relu')(input_layer)\n",
    "x = Dense(16, activation='relu')(x)\n",
    "code = Dense(CODE_DIM, activation='relu')(x)\n",
    "x = Dense(16, activation='relu')(code)\n",
    "x = Dense(64, activation='relu')(x)\n",
    "output_layer = Dense(INPUT_SHAPE, activation='relu')(x)\n",
    "\n",
    "autoencoder = Model(input_layer, output_layer, name='anomaly')"
   ]
  },
  {
   "cell_type": "code",
   "execution_count": 44,
   "id": "c4b04610-900e-4102-b2ef-373bb9cde4dd",
   "metadata": {},
   "outputs": [],
   "source": [
    "model_name = \"anomaly.weights.h5\"\n",
    "checkpoint = ModelCheckpoint(model_name,\n",
    "                            monitor=\"val_loss\",\n",
    "                            mode=\"min\",\n",
    "                            save_best_only = True,\n",
    "                            save_weights_only=True,\n",
    "                            verbose=1)\n",
    "earlystopping = EarlyStopping(monitor='val_loss',\n",
    "                              min_delta = 0, \n",
    "                              patience = 5, \n",
    "                              verbose = 1,\n",
    "                              restore_best_weights=True)\n",
    "\n",
    "callbacks = [checkpoint, earlystopping]"
   ]
  },
  {
   "cell_type": "code",
   "execution_count": 45,
   "id": "deaa76c4-ff68-44b9-b5b9-6c1a2bc4f8ee",
   "metadata": {},
   "outputs": [],
   "source": [
    "autoencoder.compile(loss='mae',\n",
    "                    optimizer=Adam())"
   ]
  },
  {
   "cell_type": "code",
   "execution_count": null,
   "id": "e161e31f-e85e-4be4-9296-8f8272265fb5",
   "metadata": {},
   "outputs": [],
   "source": []
  },
  {
   "cell_type": "code",
   "execution_count": 46,
   "id": "66330a6a-cba9-40fa-896b-005cb48d3c37",
   "metadata": {},
   "outputs": [
    {
     "name": "stdout",
     "output_type": "stream",
     "text": [
      "Epoch 1/25\n",
      "\u001b[1m32424/32426\u001b[0m \u001b[32m━━━━━━━━━━━━━━━━━━━\u001b[0m\u001b[37m━\u001b[0m \u001b[1m0s\u001b[0m 6ms/step - loss: 0.0359\n",
      "Epoch 1: val_loss improved from inf to 0.03170, saving model to anomaly.weights.h5\n",
      "\u001b[1m32426/32426\u001b[0m \u001b[32m━━━━━━━━━━━━━━━━━━━━\u001b[0m\u001b[37m\u001b[0m \u001b[1m356s\u001b[0m 11ms/step - loss: 0.0359 - val_loss: 0.0317\n",
      "Epoch 2/25\n",
      "\u001b[1m32421/32426\u001b[0m \u001b[32m━━━━━━━━━━━━━━━━━━━\u001b[0m\u001b[37m━\u001b[0m \u001b[1m0s\u001b[0m 7ms/step - loss: 0.0319\n",
      "Epoch 2: val_loss improved from 0.03170 to 0.03115, saving model to anomaly.weights.h5\n",
      "\u001b[1m32426/32426\u001b[0m \u001b[32m━━━━━━━━━━━━━━━━━━━━\u001b[0m\u001b[37m\u001b[0m \u001b[1m372s\u001b[0m 11ms/step - loss: 0.0319 - val_loss: 0.0312\n",
      "Epoch 3/25\n",
      "\u001b[1m32416/32426\u001b[0m \u001b[32m━━━━━━━━━━━━━━━━━━━\u001b[0m\u001b[37m━\u001b[0m \u001b[1m0s\u001b[0m 6ms/step - loss: 0.0316\n",
      "Epoch 3: val_loss did not improve from 0.03115\n",
      "\u001b[1m32426/32426\u001b[0m \u001b[32m━━━━━━━━━━━━━━━━━━━━\u001b[0m\u001b[37m\u001b[0m \u001b[1m332s\u001b[0m 10ms/step - loss: 0.0316 - val_loss: 0.0316\n",
      "Epoch 4/25\n",
      "\u001b[1m32423/32426\u001b[0m \u001b[32m━━━━━━━━━━━━━━━━━━━\u001b[0m\u001b[37m━\u001b[0m \u001b[1m0s\u001b[0m 5ms/step - loss: 0.0315\n",
      "Epoch 4: val_loss improved from 0.03115 to 0.03101, saving model to anomaly.weights.h5\n",
      "\u001b[1m32426/32426\u001b[0m \u001b[32m━━━━━━━━━━━━━━━━━━━━\u001b[0m\u001b[37m\u001b[0m \u001b[1m324s\u001b[0m 10ms/step - loss: 0.0315 - val_loss: 0.0310\n",
      "Epoch 5/25\n",
      "\u001b[1m32417/32426\u001b[0m \u001b[32m━━━━━━━━━━━━━━━━━━━\u001b[0m\u001b[37m━\u001b[0m \u001b[1m0s\u001b[0m 7ms/step - loss: 0.0315\n",
      "Epoch 5: val_loss improved from 0.03101 to 0.03097, saving model to anomaly.weights.h5\n",
      "\u001b[1m32426/32426\u001b[0m \u001b[32m━━━━━━━━━━━━━━━━━━━━\u001b[0m\u001b[37m\u001b[0m \u001b[1m347s\u001b[0m 11ms/step - loss: 0.0315 - val_loss: 0.0310\n",
      "Epoch 6/25\n",
      "\u001b[1m32417/32426\u001b[0m \u001b[32m━━━━━━━━━━━━━━━━━━━\u001b[0m\u001b[37m━\u001b[0m \u001b[1m0s\u001b[0m 6ms/step - loss: 0.0313\n",
      "Epoch 6: val_loss did not improve from 0.03097\n",
      "\u001b[1m32426/32426\u001b[0m \u001b[32m━━━━━━━━━━━━━━━━━━━━\u001b[0m\u001b[37m\u001b[0m \u001b[1m355s\u001b[0m 11ms/step - loss: 0.0313 - val_loss: 0.0318\n",
      "Epoch 7/25\n",
      "\u001b[1m32420/32426\u001b[0m \u001b[32m━━━━━━━━━━━━━━━━━━━\u001b[0m\u001b[37m━\u001b[0m \u001b[1m0s\u001b[0m 5ms/step - loss: 0.0313\n",
      "Epoch 7: val_loss improved from 0.03097 to 0.03085, saving model to anomaly.weights.h5\n",
      "\u001b[1m32426/32426\u001b[0m \u001b[32m━━━━━━━━━━━━━━━━━━━━\u001b[0m\u001b[37m\u001b[0m \u001b[1m318s\u001b[0m 10ms/step - loss: 0.0313 - val_loss: 0.0308\n",
      "Epoch 8/25\n",
      "\u001b[1m32419/32426\u001b[0m \u001b[32m━━━━━━━━━━━━━━━━━━━\u001b[0m\u001b[37m━\u001b[0m \u001b[1m0s\u001b[0m 6ms/step - loss: 0.0313\n",
      "Epoch 8: val_loss did not improve from 0.03085\n",
      "\u001b[1m32426/32426\u001b[0m \u001b[32m━━━━━━━━━━━━━━━━━━━━\u001b[0m\u001b[37m\u001b[0m \u001b[1m326s\u001b[0m 10ms/step - loss: 0.0313 - val_loss: 0.0312\n",
      "Epoch 9/25\n",
      "\u001b[1m32417/32426\u001b[0m \u001b[32m━━━━━━━━━━━━━━━━━━━\u001b[0m\u001b[37m━\u001b[0m \u001b[1m0s\u001b[0m 6ms/step - loss: 0.0312\n",
      "Epoch 9: val_loss did not improve from 0.03085\n",
      "\u001b[1m32426/32426\u001b[0m \u001b[32m━━━━━━━━━━━━━━━━━━━━\u001b[0m\u001b[37m\u001b[0m \u001b[1m326s\u001b[0m 10ms/step - loss: 0.0312 - val_loss: 0.0309\n",
      "Epoch 10/25\n",
      "\u001b[1m32417/32426\u001b[0m \u001b[32m━━━━━━━━━━━━━━━━━━━\u001b[0m\u001b[37m━\u001b[0m \u001b[1m0s\u001b[0m 6ms/step - loss: 0.0312\n",
      "Epoch 10: val_loss did not improve from 0.03085\n",
      "\u001b[1m32426/32426\u001b[0m \u001b[32m━━━━━━━━━━━━━━━━━━━━\u001b[0m\u001b[37m\u001b[0m \u001b[1m325s\u001b[0m 10ms/step - loss: 0.0312 - val_loss: 0.0314\n",
      "Epoch 11/25\n",
      "\u001b[1m32423/32426\u001b[0m \u001b[32m━━━━━━━━━━━━━━━━━━━\u001b[0m\u001b[37m━\u001b[0m \u001b[1m0s\u001b[0m 5ms/step - loss: 0.0312\n",
      "Epoch 11: val_loss did not improve from 0.03085\n",
      "\u001b[1m32426/32426\u001b[0m \u001b[32m━━━━━━━━━━━━━━━━━━━━\u001b[0m\u001b[37m\u001b[0m \u001b[1m315s\u001b[0m 10ms/step - loss: 0.0312 - val_loss: 0.0311\n",
      "Epoch 12/25\n",
      "\u001b[1m32419/32426\u001b[0m \u001b[32m━━━━━━━━━━━━━━━━━━━\u001b[0m\u001b[37m━\u001b[0m \u001b[1m0s\u001b[0m 5ms/step - loss: 0.0312\n",
      "Epoch 12: val_loss did not improve from 0.03085\n",
      "\u001b[1m32426/32426\u001b[0m \u001b[32m━━━━━━━━━━━━━━━━━━━━\u001b[0m\u001b[37m\u001b[0m \u001b[1m324s\u001b[0m 10ms/step - loss: 0.0312 - val_loss: 0.0310\n",
      "Epoch 12: early stopping\n",
      "Restoring model weights from the end of the best epoch: 7.\n"
     ]
    }
   ],
   "source": [
    "history = autoencoder.fit(X_scaled, X_scaled,\n",
    "                          epochs=25, batch_size=64,\n",
    "                          validation_data=(X_scaled, X_scaled),\n",
    "                          callbacks=callbacks, shuffle=True)"
   ]
  },
  {
   "cell_type": "code",
   "execution_count": 47,
   "id": "8b716350-0544-4ff2-a831-a5e86388c69d",
   "metadata": {},
   "outputs": [
    {
     "data": {
      "image/png": "[encoded data removed]",
      "text/plain": [
       "<Figure size 1000x600 with 1 Axes>"
      ]
     },
     "metadata": {},
     "output_type": "display_data"
    }
   ],
   "source": [
    "plt.figure(figsize=(10,6))\n",
    "plt.plot(history.history['loss'], label=\"Training Loss\")\n",
    "plt.plot(history.history['val_loss'], label=\"Validation Loss\")\n",
    "plt.xlabel('Epochs')\n",
    "plt.ylabel('Loss')\n",
    "plt.legend()\n",
    "plt.title(\"Loss values by Epoch\")\n",
    "plt.show()"
   ]
  },
  {
   "cell_type": "code",
   "execution_count": 49,
   "id": "56c509e0-6eac-4088-a2f9-aacd8cd1d5c4",
   "metadata": {},
   "outputs": [
    {
     "data": {
      "text/plain": [
       "list"
      ]
     },
     "execution_count": 49,
     "metadata": {},
     "output_type": "execute_result"
    }
   ],
   "source": [
    "type(history.history['loss'])"
   ]
  },
  {
   "cell_type": "code",
   "execution_count": 50,
   "id": "08f0085f-540d-4b8d-8aa5-b5e8e06137c5",
   "metadata": {},
   "outputs": [
    {
     "name": "stdout",
     "output_type": "stream",
     "text": [
      "\u001b[1m64852/64852\u001b[0m \u001b[32m━━━━━━━━━━━━━━━━━━━━\u001b[0m\u001b[37m\u001b[0m \u001b[1m93s\u001b[0m 1ms/step\n"
     ]
    }
   ],
   "source": [
    "# **Anomaly detection with Autoencoders**\n",
    "reconstructed = autoencoder.predict(X_scaled)  # Reconstructed data from Autoencoder\n",
    "reconstruction_error = np.mean(np.abs(reconstructed - X_scaled), axis=1)  # Reconstruction error\n",
    "\n",
    "# Set threshold for anomaly detection (top 5% reconstruction errors)\n",
    "threshold = np.percentile(reconstruction_error, 95)\n",
    "df['anomaly_autoencoder'] = (reconstruction_error > threshold).astype(int)  # 1 for anomaly, 0 for normal\n"
   ]
  },
  {
   "cell_type": "code",
   "execution_count": 52,
   "id": "96598ac3-1eed-40e2-bfd2-cfa4b87289fd",
   "metadata": {},
   "outputs": [
    {
     "data": {
      "text/plain": [
       "anomaly_autoencoder\n",
       "0    1971496\n",
       "1     103763\n",
       "Name: count, dtype: int64"
      ]
     },
     "execution_count": 52,
     "metadata": {},
     "output_type": "execute_result"
    }
   ],
   "source": [
    "df['anomaly_autoencoder'].value_counts()"
   ]
  },
  {
   "cell_type": "code",
   "execution_count": 54,
   "id": "cb1cdd33-3757-4094-aea3-c02b5f37dac6",
   "metadata": {},
   "outputs": [
    {
     "data": {
      "text/plain": [
       "(2075259, 3)"
      ]
     },
     "execution_count": 54,
     "metadata": {},
     "output_type": "execute_result"
    }
   ],
   "source": [
    "X_scaled.shape"
   ]
  },
  {
   "cell_type": "code",
   "execution_count": 57,
   "id": "e5d6e054-6d04-4ec5-b925-ecbab3e3577d",
   "metadata": {},
   "outputs": [
    {
     "data": {
      "text/html": [
       "<style>#sk-container-id-1 {\n",
       "  /* Definition of color scheme common for light and dark mode */\n",
       "  --sklearn-color-text: #000;\n",
       "  --sklearn-color-text-muted: #666;\n",
       "  --sklearn-color-line: gray;\n",
       "  /* Definition of color scheme for unfitted estimators */\n",
       "  --sklearn-color-unfitted-level-0: #fff5e6;\n",
       "  --sklearn-color-unfitted-level-1: #f6e4d2;\n",
       "  --sklearn-color-unfitted-level-2: #ffe0b3;\n",
       "  --sklearn-color-unfitted-level-3: chocolate;\n",
       "  /* Definition of color scheme for fitted estimators */\n",
       "  --sklearn-color-fitted-level-0: #f0f8ff;\n",
       "  --sklearn-color-fitted-level-1: #d4ebff;\n",
       "  --sklearn-color-fitted-level-2: #b3dbfd;\n",
       "  --sklearn-color-fitted-level-3: cornflowerblue;\n",
       "\n",
       "  /* Specific color for light theme */\n",
       "  --sklearn-color-text-on-default-background: var(--sg-text-color, var(--theme-code-foreground, var(--jp-content-font-color1, black)));\n",
       "  --sklearn-color-background: var(--sg-background-color, var(--theme-background, var(--jp-layout-color0, white)));\n",
       "  --sklearn-color-border-box: var(--sg-text-color, var(--theme-code-foreground, var(--jp-content-font-color1, black)));\n",
       "  --sklearn-color-icon: #696969;\n",
       "\n",
       "  @media (prefers-color-scheme: dark) {\n",
       "    /* Redefinition of color scheme for dark theme */\n",
       "    --sklearn-color-text-on-default-background: var(--sg-text-color, var(--theme-code-foreground, var(--jp-content-font-color1, white)));\n",
       "    --sklearn-color-background: var(--sg-background-color, var(--theme-background, var(--jp-layout-color0, #111)));\n",
       "    --sklearn-color-border-box: var(--sg-text-color, var(--theme-code-foreground, var(--jp-content-font-color1, white)));\n",
       "    --sklearn-color-icon: #878787;\n",
       "  }\n",
       "}\n",
       "\n",
       "#sk-container-id-1 {\n",
       "  color: var(--sklearn-color-text);\n",
       "}\n",
       "\n",
       "#sk-container-id-1 pre {\n",
       "  padding: 0;\n",
       "}\n",
       "\n",
       "#sk-container-id-1 input.sk-hidden--visually {\n",
       "  border: 0;\n",
       "  clip: rect(1px 1px 1px 1px);\n",
       "  clip: rect(1px, 1px, 1px, 1px);\n",
       "  height: 1px;\n",
       "  margin: -1px;\n",
       "  overflow: hidden;\n",
       "  padding: 0;\n",
       "  position: absolute;\n",
       "  width: 1px;\n",
       "}\n",
       "\n",
       "#sk-container-id-1 div.sk-dashed-wrapped {\n",
       "  border: 1px dashed var(--sklearn-color-line);\n",
       "  margin: 0 0.4em 0.5em 0.4em;\n",
       "  box-sizing: border-box;\n",
       "  padding-bottom: 0.4em;\n",
       "  background-color: var(--sklearn-color-background);\n",
       "}\n",
       "\n",
       "#sk-container-id-1 div.sk-container {\n",
       "  /* jupyter's `normalize.less` sets `[hidden] { display: none; }`\n",
       "     but bootstrap.min.css set `[hidden] { display: none !important; }`\n",
       "     so we also need the `!important` here to be able to override the\n",
       "     default hidden behavior on the sphinx rendered scikit-learn.org.\n",
       "     See: https://github.com/scikit-learn/scikit-learn/issues/21755 */\n",
       "  display: inline-block !important;\n",
       "  position: relative;\n",
       "}\n",
       "\n",
       "#sk-container-id-1 div.sk-text-repr-fallback {\n",
       "  display: none;\n",
       "}\n",
       "\n",
       "div.sk-parallel-item,\n",
       "div.sk-serial,\n",
       "div.sk-item {\n",
       "  /* draw centered vertical line to link estimators */\n",
       "  background-image: linear-gradient(var(--sklearn-color-text-on-default-background), var(--sklearn-color-text-on-default-background));\n",
       "  background-size: 2px 100%;\n",
       "  background-repeat: no-repeat;\n",
       "  background-position: center center;\n",
       "}\n",
       "\n",
       "/* Parallel-specific style estimator block */\n",
       "\n",
       "#sk-container-id-1 div.sk-parallel-item::after {\n",
       "  content: \"\";\n",
       "  width: 100%;\n",
       "  border-bottom: 2px solid var(--sklearn-color-text-on-default-background);\n",
       "  flex-grow: 1;\n",
       "}\n",
       "\n",
       "#sk-container-id-1 div.sk-parallel {\n",
       "  display: flex;\n",
       "  align-items: stretch;\n",
       "  justify-content: center;\n",
       "  background-color: var(--sklearn-color-background);\n",
       "  position: relative;\n",
       "}\n",
       "\n",
       "#sk-container-id-1 div.sk-parallel-item {\n",
       "  display: flex;\n",
       "  flex-direction: column;\n",
       "}\n",
       "\n",
       "#sk-container-id-1 div.sk-parallel-item:first-child::after {\n",
       "  align-self: flex-end;\n",
       "  width: 50%;\n",
       "}\n",
       "\n",
       "#sk-container-id-1 div.sk-parallel-item:last-child::after {\n",
       "  align-self: flex-start;\n",
       "  width: 50%;\n",
       "}\n",
       "\n",
       "#sk-container-id-1 div.sk-parallel-item:only-child::after {\n",
       "  width: 0;\n",
       "}\n",
       "\n",
       "/* Serial-specific style estimator block */\n",
       "\n",
       "#sk-container-id-1 div.sk-serial {\n",
       "  display: flex;\n",
       "  flex-direction: column;\n",
       "  align-items: center;\n",
       "  background-color: var(--sklearn-color-background);\n",
       "  padding-right: 1em;\n",
       "  padding-left: 1em;\n",
       "}\n",
       "\n",
       "\n",
       "/* Toggleable style: style used for estimator/Pipeline/ColumnTransformer box that is\n",
       "clickable and can be expanded/collapsed.\n",
       "- Pipeline and ColumnTransformer use this feature and define the default style\n",
       "- Estimators will overwrite some part of the style using the `sk-estimator` class\n",
       "*/\n",
       "\n",
       "/* Pipeline and ColumnTransformer style (default) */\n",
       "\n",
       "#sk-container-id-1 div.sk-toggleable {\n",
       "  /* Default theme specific background. It is overwritten whether we have a\n",
       "  specific estimator or a Pipeline/ColumnTransformer */\n",
       "  background-color: var(--sklearn-color-background);\n",
       "}\n",
       "\n",
       "/* Toggleable label */\n",
       "#sk-container-id-1 label.sk-toggleable__label {\n",
       "  cursor: pointer;\n",
       "  display: flex;\n",
       "  width: 100%;\n",
       "  margin-bottom: 0;\n",
       "  padding: 0.5em;\n",
       "  box-sizing: border-box;\n",
       "  text-align: center;\n",
       "  align-items: start;\n",
       "  justify-content: space-between;\n",
       "  gap: 0.5em;\n",
       "}\n",
       "\n",
       "#sk-container-id-1 label.sk-toggleable__label .caption {\n",
       "  font-size: 0.6rem;\n",
       "  font-weight: lighter;\n",
       "  color: var(--sklearn-color-text-muted);\n",
       "}\n",
       "\n",
       "#sk-container-id-1 label.sk-toggleable__label-arrow:before {\n",
       "  /* Arrow on the left of the label */\n",
       "  content: \"▸\";\n",
       "  float: left;\n",
       "  margin-right: 0.25em;\n",
       "  color: var(--sklearn-color-icon);\n",
       "}\n",
       "\n",
       "#sk-container-id-1 label.sk-toggleable__label-arrow:hover:before {\n",
       "  color: var(--sklearn-color-text);\n",
       "}\n",
       "\n",
       "/* Toggleable content - dropdown */\n",
       "\n",
       "#sk-container-id-1 div.sk-toggleable__content {\n",
       "  max-height: 0;\n",
       "  max-width: 0;\n",
       "  overflow: hidden;\n",
       "  text-align: left;\n",
       "  /* unfitted */\n",
       "  background-color: var(--sklearn-color-unfitted-level-0);\n",
       "}\n",
       "\n",
       "#sk-container-id-1 div.sk-toggleable__content.fitted {\n",
       "  /* fitted */\n",
       "  background-color: var(--sklearn-color-fitted-level-0);\n",
       "}\n",
       "\n",
       "#sk-container-id-1 div.sk-toggleable__content pre {\n",
       "  margin: 0.2em;\n",
       "  border-radius: 0.25em;\n",
       "  color: var(--sklearn-color-text);\n",
       "  /* unfitted */\n",
       "  background-color: var(--sklearn-color-unfitted-level-0);\n",
       "}\n",
       "\n",
       "#sk-container-id-1 div.sk-toggleable__content.fitted pre {\n",
       "  /* unfitted */\n",
       "  background-color: var(--sklearn-color-fitted-level-0);\n",
       "}\n",
       "\n",
       "#sk-container-id-1 input.sk-toggleable__control:checked~div.sk-toggleable__content {\n",
       "  /* Expand drop-down */\n",
       "  max-height: 200px;\n",
       "  max-width: 100%;\n",
       "  overflow: auto;\n",
       "}\n",
       "\n",
       "#sk-container-id-1 input.sk-toggleable__control:checked~label.sk-toggleable__label-arrow:before {\n",
       "  content: \"▾\";\n",
       "}\n",
       "\n",
       "/* Pipeline/ColumnTransformer-specific style */\n",
       "\n",
       "#sk-container-id-1 div.sk-label input.sk-toggleable__control:checked~label.sk-toggleable__label {\n",
       "  color: var(--sklearn-color-text);\n",
       "  background-color: var(--sklearn-color-unfitted-level-2);\n",
       "}\n",
       "\n",
       "#sk-container-id-1 div.sk-label.fitted input.sk-toggleable__control:checked~label.sk-toggleable__label {\n",
       "  background-color: var(--sklearn-color-fitted-level-2);\n",
       "}\n",
       "\n",
       "/* Estimator-specific style */\n",
       "\n",
       "/* Colorize estimator box */\n",
       "#sk-container-id-1 div.sk-estimator input.sk-toggleable__control:checked~label.sk-toggleable__label {\n",
       "  /* unfitted */\n",
       "  background-color: var(--sklearn-color-unfitted-level-2);\n",
       "}\n",
       "\n",
       "#sk-container-id-1 div.sk-estimator.fitted input.sk-toggleable__control:checked~label.sk-toggleable__label {\n",
       "  /* fitted */\n",
       "  background-color: var(--sklearn-color-fitted-level-2);\n",
       "}\n",
       "\n",
       "#sk-container-id-1 div.sk-label label.sk-toggleable__label,\n",
       "#sk-container-id-1 div.sk-label label {\n",
       "  /* The background is the default theme color */\n",
       "  color: var(--sklearn-color-text-on-default-background);\n",
       "}\n",
       "\n",
       "/* On hover, darken the color of the background */\n",
       "#sk-container-id-1 div.sk-label:hover label.sk-toggleable__label {\n",
       "  color: var(--sklearn-color-text);\n",
       "  background-color: var(--sklearn-color-unfitted-level-2);\n",
       "}\n",
       "\n",
       "/* Label box, darken color on hover, fitted */\n",
       "#sk-container-id-1 div.sk-label.fitted:hover label.sk-toggleable__label.fitted {\n",
       "  color: var(--sklearn-color-text);\n",
       "  background-color: var(--sklearn-color-fitted-level-2);\n",
       "}\n",
       "\n",
       "/* Estimator label */\n",
       "\n",
       "#sk-container-id-1 div.sk-label label {\n",
       "  font-family: monospace;\n",
       "  font-weight: bold;\n",
       "  display: inline-block;\n",
       "  line-height: 1.2em;\n",
       "}\n",
       "\n",
       "#sk-container-id-1 div.sk-label-container {\n",
       "  text-align: center;\n",
       "}\n",
       "\n",
       "/* Estimator-specific */\n",
       "#sk-container-id-1 div.sk-estimator {\n",
       "  font-family: monospace;\n",
       "  border: 1px dotted var(--sklearn-color-border-box);\n",
       "  border-radius: 0.25em;\n",
       "  box-sizing: border-box;\n",
       "  margin-bottom: 0.5em;\n",
       "  /* unfitted */\n",
       "  background-color: var(--sklearn-color-unfitted-level-0);\n",
       "}\n",
       "\n",
       "#sk-container-id-1 div.sk-estimator.fitted {\n",
       "  /* fitted */\n",
       "  background-color: var(--sklearn-color-fitted-level-0);\n",
       "}\n",
       "\n",
       "/* on hover */\n",
       "#sk-container-id-1 div.sk-estimator:hover {\n",
       "  /* unfitted */\n",
       "  background-color: var(--sklearn-color-unfitted-level-2);\n",
       "}\n",
       "\n",
       "#sk-container-id-1 div.sk-estimator.fitted:hover {\n",
       "  /* fitted */\n",
       "  background-color: var(--sklearn-color-fitted-level-2);\n",
       "}\n",
       "\n",
       "/* Specification for estimator info (e.g. \"i\" and \"?\") */\n",
       "\n",
       "/* Common style for \"i\" and \"?\" */\n",
       "\n",
       ".sk-estimator-doc-link,\n",
       "a:link.sk-estimator-doc-link,\n",
       "a:visited.sk-estimator-doc-link {\n",
       "  float: right;\n",
       "  font-size: smaller;\n",
       "  line-height: 1em;\n",
       "  font-family: monospace;\n",
       "  background-color: var(--sklearn-color-background);\n",
       "  border-radius: 1em;\n",
       "  height: 1em;\n",
       "  width: 1em;\n",
       "  text-decoration: none !important;\n",
       "  margin-left: 0.5em;\n",
       "  text-align: center;\n",
       "  /* unfitted */\n",
       "  border: var(--sklearn-color-unfitted-level-1) 1pt solid;\n",
       "  color: var(--sklearn-color-unfitted-level-1);\n",
       "}\n",
       "\n",
       ".sk-estimator-doc-link.fitted,\n",
       "a:link.sk-estimator-doc-link.fitted,\n",
       "a:visited.sk-estimator-doc-link.fitted {\n",
       "  /* fitted */\n",
       "  border: var(--sklearn-color-fitted-level-1) 1pt solid;\n",
       "  color: var(--sklearn-color-fitted-level-1);\n",
       "}\n",
       "\n",
       "/* On hover */\n",
       "div.sk-estimator:hover .sk-estimator-doc-link:hover,\n",
       ".sk-estimator-doc-link:hover,\n",
       "div.sk-label-container:hover .sk-estimator-doc-link:hover,\n",
       ".sk-estimator-doc-link:hover {\n",
       "  /* unfitted */\n",
       "  background-color: var(--sklearn-color-unfitted-level-3);\n",
       "  color: var(--sklearn-color-background);\n",
       "  text-decoration: none;\n",
       "}\n",
       "\n",
       "div.sk-estimator.fitted:hover .sk-estimator-doc-link.fitted:hover,\n",
       ".sk-estimator-doc-link.fitted:hover,\n",
       "div.sk-label-container:hover .sk-estimator-doc-link.fitted:hover,\n",
       ".sk-estimator-doc-link.fitted:hover {\n",
       "  /* fitted */\n",
       "  background-color: var(--sklearn-color-fitted-level-3);\n",
       "  color: var(--sklearn-color-background);\n",
       "  text-decoration: none;\n",
       "}\n",
       "\n",
       "/* Span, style for the box shown on hovering the info icon */\n",
       ".sk-estimator-doc-link span {\n",
       "  display: none;\n",
       "  z-index: 9999;\n",
       "  position: relative;\n",
       "  font-weight: normal;\n",
       "  right: .2ex;\n",
       "  padding: .5ex;\n",
       "  margin: .5ex;\n",
       "  width: min-content;\n",
       "  min-width: 20ex;\n",
       "  max-width: 50ex;\n",
       "  color: var(--sklearn-color-text);\n",
       "  box-shadow: 2pt 2pt 4pt #999;\n",
       "  /* unfitted */\n",
       "  background: var(--sklearn-color-unfitted-level-0);\n",
       "  border: .5pt solid var(--sklearn-color-unfitted-level-3);\n",
       "}\n",
       "\n",
       ".sk-estimator-doc-link.fitted span {\n",
       "  /* fitted */\n",
       "  background: var(--sklearn-color-fitted-level-0);\n",
       "  border: var(--sklearn-color-fitted-level-3);\n",
       "}\n",
       "\n",
       ".sk-estimator-doc-link:hover span {\n",
       "  display: block;\n",
       "}\n",
       "\n",
       "/* \"?\"-specific style due to the `<a>` HTML tag */\n",
       "\n",
       "#sk-container-id-1 a.estimator_doc_link {\n",
       "  float: right;\n",
       "  font-size: 1rem;\n",
       "  line-height: 1em;\n",
       "  font-family: monospace;\n",
       "  background-color: var(--sklearn-color-background);\n",
       "  border-radius: 1rem;\n",
       "  height: 1rem;\n",
       "  width: 1rem;\n",
       "  text-decoration: none;\n",
       "  /* unfitted */\n",
       "  color: var(--sklearn-color-unfitted-level-1);\n",
       "  border: var(--sklearn-color-unfitted-level-1) 1pt solid;\n",
       "}\n",
       "\n",
       "#sk-container-id-1 a.estimator_doc_link.fitted {\n",
       "  /* fitted */\n",
       "  border: var(--sklearn-color-fitted-level-1) 1pt solid;\n",
       "  color: var(--sklearn-color-fitted-level-1);\n",
       "}\n",
       "\n",
       "/* On hover */\n",
       "#sk-container-id-1 a.estimator_doc_link:hover {\n",
       "  /* unfitted */\n",
       "  background-color: var(--sklearn-color-unfitted-level-3);\n",
       "  color: var(--sklearn-color-background);\n",
       "  text-decoration: none;\n",
       "}\n",
       "\n",
       "#sk-container-id-1 a.estimator_doc_link.fitted:hover {\n",
       "  /* fitted */\n",
       "  background-color: var(--sklearn-color-fitted-level-3);\n",
       "}\n",
       "</style><div id=\"sk-container-id-1\" class=\"sk-top-container\"><div class=\"sk-text-repr-fallback\"><pre>IsolationForest(contamination=0.05, max_samples=0.9, n_estimators=200,\n",
       "                random_state=42)</pre><b>In a Jupyter environment, please rerun this cell to show the HTML representation or trust the notebook. <br />On GitHub, the HTML representation is unable to render, please try loading this page with nbviewer.org.</b></div><div class=\"sk-container\" hidden><div class=\"sk-item\"><div class=\"sk-estimator fitted sk-toggleable\"><input class=\"sk-toggleable__control sk-hidden--visually\" id=\"sk-estimator-id-1\" type=\"checkbox\" checked><label for=\"sk-estimator-id-1\" class=\"sk-toggleable__label fitted sk-toggleable__label-arrow\"><div><div>IsolationForest</div></div><div><a class=\"sk-estimator-doc-link fitted\" rel=\"noreferrer\" target=\"_blank\" href=\"https://scikit-learn.org/1.6/modules/generated/sklearn.ensemble.IsolationForest.html\">?<span>Documentation for IsolationForest</span></a><span class=\"sk-estimator-doc-link fitted\">i<span>Fitted</span></span></div></label><div class=\"sk-toggleable__content fitted\"><pre>IsolationForest(contamination=0.05, max_samples=0.9, n_estimators=200,\n",
       "                random_state=42)</pre></div> </div></div></div></div>"
      ],
      "text/plain": [
       "IsolationForest(contamination=0.05, max_samples=0.9, n_estimators=200,\n",
       "                random_state=42)"
      ]
     },
     "execution_count": 57,
     "metadata": {},
     "output_type": "execute_result"
    }
   ],
   "source": [
    "#isolation forest anomaly detection\n",
    "X = df[features]\n",
    "\n",
    "# **1. Isolation Forest for Fault Detection**\n",
    "# Initialize Isolation Forest model\n",
    "model_iforest = IsolationForest(n_estimators=200, contamination=0.05, max_samples=0.9, random_state=42)\n",
    "model_iforest.fit(X)  # Train the model on the selected features\n",
    "\n"
   ]
  },
  {
   "cell_type": "code",
   "execution_count": 58,
   "id": "7cdee6d2-4c71-434e-bfc8-437659c60fea",
   "metadata": {},
   "outputs": [],
   "source": [
    "# Predict anomalies using Isolation Forest\n",
    "df['anomaly_iforest'] = model_iforest.predict(X)  # -1 for anomaly, 1 for normal\n",
    "df['anomaly_iforest'] = df['anomaly_iforest'].map({1: 'Normal', -1: 'Anomaly'})  # Map the predictions"
   ]
  },
  {
   "cell_type": "code",
   "execution_count": 62,
   "id": "0844245a-ffa0-4753-b8fd-7963aea73be4",
   "metadata": {},
   "outputs": [
    {
     "data": {
      "text/plain": [
       "pandas.core.series.Series"
      ]
     },
     "execution_count": 62,
     "metadata": {},
     "output_type": "execute_result"
    }
   ],
   "source": [
    "type(df['anomaly_iforest'].value_counts())"
   ]
  },
  {
   "cell_type": "code",
   "execution_count": 64,
   "id": "0428c910-577a-4108-b1a0-0c1d5d2154bd",
   "metadata": {},
   "outputs": [],
   "source": [
    "anomaly_iforest = df['anomaly_iforest'].value_counts()\n",
    "anomaly_autoencoder = df['anomaly_autoencoder'].value_counts()"
   ]
  },
  {
   "cell_type": "code",
   "execution_count": 65,
   "id": "02c647ba-04e1-4ab0-8d91-a3d1f68288fd",
   "metadata": {},
   "outputs": [],
   "source": [
    "anomaly_df = pd.DataFrame(anomaly_iforest,anomaly_autoencoder)"
   ]
  },
  {
   "cell_type": "code",
   "execution_count": 67,
   "id": "025d61d0-3f6a-406e-a604-0618947815c7",
   "metadata": {},
   "outputs": [
    {
     "data": {
      "text/plain": [
       "anomaly_iforest\n",
       "Normal     1971504\n",
       "Anomaly     103755\n",
       "Name: count, dtype: int64"
      ]
     },
     "execution_count": 67,
     "metadata": {},
     "output_type": "execute_result"
    }
   ],
   "source": [
    "anomaly_iforest"
   ]
  },
  {
   "cell_type": "code",
   "execution_count": 68,
   "id": "cf5b5188-0f52-4590-b3cb-2e9cda4e3c4f",
   "metadata": {},
   "outputs": [
    {
     "name": "stdout",
     "output_type": "stream",
     "text": [
      "\n",
      "First few rows with anomaly labels:\n",
      "                      Voltage  Global_active_power anomaly_iforest  \\\n",
      "Timestamp                                                            \n",
      "2006-12-16 17:24:00  0.376090             0.374796         Anomaly   \n",
      "2006-12-16 17:25:00  0.336995             0.478363         Anomaly   \n",
      "2006-12-16 17:26:00  0.326010             0.479631         Anomaly   \n",
      "2006-12-16 17:27:00  0.340549             0.480898         Anomaly   \n",
      "2006-12-16 17:28:00  0.403231             0.325005          Normal   \n",
      "2006-12-16 17:29:00  0.381906             0.311787          Normal   \n",
      "2006-12-16 17:30:00  0.384168             0.328264          Normal   \n",
      "2006-12-16 17:31:00  0.388368             0.328083          Normal   \n",
      "2006-12-16 17:32:00  0.348627             0.325186          Normal   \n",
      "2006-12-16 17:33:00  0.344426             0.324642          Normal   \n",
      "\n",
      "                     anomaly_autoencoder  \n",
      "Timestamp                                 \n",
      "2006-12-16 17:24:00                    1  \n",
      "2006-12-16 17:25:00                    1  \n",
      "2006-12-16 17:26:00                    1  \n",
      "2006-12-16 17:27:00                    1  \n",
      "2006-12-16 17:28:00                    1  \n",
      "2006-12-16 17:29:00                    1  \n",
      "2006-12-16 17:30:00                    1  \n",
      "2006-12-16 17:31:00                    1  \n",
      "2006-12-16 17:32:00                    1  \n",
      "2006-12-16 17:33:00                    1  \n"
     ]
    }
   ],
   "source": [
    "#Evaluation\n",
    "\n",
    "# Displaying first few rows with anomalies labeled\n",
    "print(\"\\nFirst few rows with anomaly labels:\")\n",
    "print(df[['Voltage', 'Global_active_power', 'anomaly_iforest', 'anomaly_autoencoder']].head(10))\n",
    "\n",
    "# **4. Evaluate Model Performance using Precision, Recall, F1 Score**\n",
    "# Here, we assume that anomalies labeled by 'anomaly_iforest' or 'anomaly_autoencoder' are the faults.\n",
    "y_true = (df['anomaly_iforest'] == 'Anomaly').astype(int)  # True labels for faults\n",
    "y_pred_iforest = (df['anomaly_iforest'] == 'Anomaly').astype(int)  # Predicted anomalies by Isolation Forest\n",
    "y_pred_autoencoder = df['anomaly_autoencoder']  # Predicted anomalies by Autoencoder\n",
    "\n",
    "\n"
   ]
  },
  {
   "cell_type": "code",
   "execution_count": 70,
   "id": "f582fefd-16ed-4f4c-956e-af8028fcbe34",
   "metadata": {},
   "outputs": [
    {
     "name": "stdout",
     "output_type": "stream",
     "text": [
      "\n",
      "Isolation Forest Model Evaluation:\n",
      "Accuracy: 1.0000\n",
      "Precision: 1.0000\n",
      "Recall: 1.0000\n",
      "F1 Score: 1.0000\n",
      "\n",
      "Classification Report for Isolation Forest:\n",
      "               precision    recall  f1-score   support\n",
      "\n",
      "           0       1.00      1.00      1.00   1971504\n",
      "           1       1.00      1.00      1.00    103755\n",
      "\n",
      "    accuracy                           1.00   2075259\n",
      "   macro avg       1.00      1.00      1.00   2075259\n",
      "weighted avg       1.00      1.00      1.00   2075259\n",
      "\n"
     ]
    }
   ],
   "source": [
    "# Evaluation for Isolation Forest\n",
    "from sklearn.metrics import accuracy_score, precision_score, recall_score, f1_score,classification_report\n",
    "print(\"\\nIsolation Forest Model Evaluation:\")\n",
    "print(f\"Accuracy: {accuracy_score(y_true, y_pred_iforest):.4f}\")\n",
    "print(f\"Precision: {precision_score(y_true, y_pred_iforest):.4f}\")\n",
    "print(f\"Recall: {recall_score(y_true, y_pred_iforest):.4f}\")\n",
    "print(f\"F1 Score: {f1_score(y_true, y_pred_iforest):.4f}\")\n",
    "print(\"\\nClassification Report for Isolation Forest:\\n\", classification_report(y_true, y_pred_iforest))"
   ]
  },
  {
   "cell_type": "code",
   "execution_count": null,
   "id": "02278520-7fb3-4d4c-bd12-186a653ef0a8",
   "metadata": {},
   "outputs": [],
   "source": [
    "# Evaluation for Autoencoder\n",
    "print(\"\\nAutoencoder Model Evaluation:\")\n",
    "print(f\"Accuracy: {accuracy_score(y_true, y_pred_autoencoder):.4f}\")\n",
    "print(f\"Precision: {precision_score(y_true, y_pred_autoencoder):.4f}\")\n",
    "print(f\"Recall: {recall_score(y_true, y_pred_autoencoder):.4f}\")\n",
    "print(f\"F1 Score: {f1_score(y_true, y_pred_autoencoder):.4f}\")\n",
    "print(\"\\nClassification Report for Autoencoder:\\n\", classification_report(y_true, y_pred_autoencoder))"
   ]
  },
  {
   "cell_type": "code",
   "execution_count": null,
   "id": "4c2cda48-70f5-43a7-b628-b43bcc7bdf78",
   "metadata": {},
   "outputs": [],
   "source": [
    "\n",
    "# **Visualize Anomalies**\n",
    "plt.figure(figsize=(12, 6))\n",
    "plt.subplot(2, 1, 1)\n",
    "plt.scatter(df.index, df['Voltage'], c=df['anomaly_iforest'].map({'Normal': 'blue', 'Anomaly': 'red'}), label='Anomalies')\n",
    "plt.title('Anomalies in Voltage (Isolation Forest)')\n",
    "plt.xlabel('Time')\n",
    "plt.ylabel('Voltage (V)')\n",
    "plt.legend()\n",
    "\n",
    "plt.subplot(2, 1, 2)\n",
    "plt.scatter(df.index, df['Voltage'], c=df['anomaly_autoencoder'].map({0: 'blue', 1: 'red'}), label='Anomalies')\n",
    "plt.title('Anomalies in Voltage (Autoencoder)')\n",
    "plt.xlabel('Time')\n",
    "plt.ylabel('Voltage (V)')\n",
    "plt.legend()\n",
    "\n",
    "plt.tight_layout()\n",
    "plt.show()"
   ]
  }
 ],
 "metadata": {
  "kernelspec": {
   "display_name": "Python 3 (ipykernel)",
   "language": "python",
   "name": "python3"
  },
  "language_info": {
   "codemirror_mode": {
    "name": "ipython",
    "version": 3
   },
   "file_extension": ".py",
   "mimetype": "text/x-python",
   "name": "python",
   "nbconvert_exporter": "python",
   "pygments_lexer": "ipython3",
   "version": "3.12.3"
  }
 },
 "nbformat": 4,
 "nbformat_minor": 5
}
