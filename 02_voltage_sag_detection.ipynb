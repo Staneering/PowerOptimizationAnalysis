{
 "cells": [
  {
   "cell_type": "markdown",
   "id": "dec97f77",
   "metadata": {},
   "source": [
    "# Voltage Sag Detection\n",
    "\n",
    "    ## Voltage Sag Detection\n",
    "    In this notebook, we detect voltage sags based on the predefined threshold of 223V.\n",
    "    \n",
    "    Steps:\n",
    "    1. Label voltage sag based on the threshold.\n",
    "    2. Train a Random Forest model for voltage sag classification.\n",
    "    3. Evaluate the performance using accuracy, precision, recall, and F1 score.\n",
    "    "
   ]
  },
  {
   "cell_type": "markdown",
   "id": "d06f45f9-4353-4ca3-aeee-e81a9bbfd726",
   "metadata": {},
   "source": [
    "\n",
    "\n",
    "---\n",
    "\n",
    "### **Second Notebook: `02_voltage_sag_detection.ipynb`**\n",
    "\n",
    "#### **Markdown Cell**:\n",
    "\n",
    "```markdown\n",
    "# Voltage Sag Detection\n",
    "\n",
    "In this notebook, we detect voltage sags based on the predefined threshold of 223V.\n",
    "\n",
    "Steps:\n",
    "1. Label voltage sag based on the threshold.\n",
    "2. Train a Random Forest model for voltage sag classification.\n",
    "3. Evaluate the performance using accuracy, precision, recall, and F1 score.\n",
    "```\n",
    "\n"
   ]
  },
  {
   "cell_type": "code",
   "execution_count": 2,
   "id": "5cb49603-7a6d-44ec-bf0d-a6ef89dc62de",
   "metadata": {},
   "outputs": [],
   "source": [
    "import pandas as pd"
   ]
  },
  {
   "cell_type": "code",
   "execution_count": 3,
   "id": "b11e22c7-bd68-4564-8f5b-17d1bbba91ab",
   "metadata": {},
   "outputs": [],
   "source": [
    "# Load the preprocessed data\n",
    "df = pd.read_csv('preprocessed_power_consumption.csv', index_col='Timestamp')\n"
   ]
  },
  {
   "cell_type": "code",
   "execution_count": 7,
   "id": "71e0f897-ea07-438f-a197-5822852b763c",
   "metadata": {},
   "outputs": [],
   "source": [
    "#### **Code Cell**:\n",
    "\n",
    "\n",
    "# Import necessary libraries\n",
    "from sklearn.ensemble import RandomForestClassifier\n",
    "from sklearn.model_selection import train_test_split\n",
    "from sklearn.metrics import accuracy_score, precision_score, recall_score, f1_score, classification_report\n",
    "\n",
    "# Step 1: Label voltage sag based on the threshold of 229V\n",
    "df['Voltage_Sag'] = (df['Voltage'] < 234).astype(int)  # Label sag as 1, else 0\n",
    "\n",
    "# Step 2: Define features (X) and target (y)\n",
    "X = df[['Global_active_power', 'Global_reactive_power', 'Global_intensity', \n",
    "        'Sub_metering_1', 'Sub_metering_2', 'Sub_metering_3']]  # Features for the model\n",
    "y = df['Voltage_Sag']  # Target: Voltage sag (1) or no sag (0)\n",
    "\n",
    "# Step 3: Split the dataset into training and testing sets\n",
    "X_train, X_test, y_train, y_test = train_test_split(X, y, test_size=0.2, random_state=42)\n",
    "\n"
   ]
  },
  {
   "cell_type": "code",
   "execution_count": 8,
   "id": "a2c0bedb-a654-4656-a452-13b96153d706",
   "metadata": {},
   "outputs": [],
   "source": [
    "# Step 4: Train a Random Forest model for voltage sag classification\n",
    "model = RandomForestClassifier(n_estimators=100, random_state=42)\n",
    "model.fit(X_train, y_train)\n",
    "\n",
    "# Step 5: Make predictions on the test set\n",
    "y_pred = model.predict(X_test)\n",
    "\n",
    "\n"
   ]
  },
  {
   "cell_type": "code",
   "execution_count": 9,
   "id": "37e2d707-47b6-4e08-84a2-184f422c0fae",
   "metadata": {},
   "outputs": [
    {
     "name": "stdout",
     "output_type": "stream",
     "text": [
      "Accuracy: 1.0000\n",
      "Precision: 1.0000\n",
      "Recall: 1.0000\n",
      "F1 Score: 1.0000\n",
      "\n",
      "Classification Report:\n",
      "               precision    recall  f1-score   support\n",
      "\n",
      "           1       1.00      1.00      1.00    415052\n",
      "\n",
      "    accuracy                           1.00    415052\n",
      "   macro avg       1.00      1.00      1.00    415052\n",
      "weighted avg       1.00      1.00      1.00    415052\n",
      "\n"
     ]
    }
   ],
   "source": [
    "# Step 6: Evaluate the performance of the model\n",
    "accuracy = accuracy_score(y_test, y_pred)\n",
    "precision = precision_score(y_test, y_pred)\n",
    "recall = recall_score(y_test, y_pred)\n",
    "f1 = f1_score(y_test, y_pred)\n",
    "\n",
    "# Display performance metrics\n",
    "print(f\"Accuracy: {accuracy:.4f}\")\n",
    "print(f\"Precision: {precision:.4f}\")\n",
    "print(f\"Recall: {recall:.4f}\")\n",
    "print(f\"F1 Score: {f1:.4f}\")\n",
    "\n",
    "# Display classification report\n",
    "print(\"\\nClassification Report:\\n\", classification_report(y_test, y_pred))\n"
   ]
  },
  {
   "cell_type": "markdown",
   "id": "0a78c467-fc99-4a1d-a9c4-0e4e9888ea15",
   "metadata": {},
   "source": [
    "### **Explanation of the Code**:\n",
    "\n",
    "1. **Labeling Voltage Sag**:\n",
    "   We define **voltage sag** as any value **below 223V**. The target column `Voltage_Sag` is created, where:\n",
    "\n",
    "   * **1** represents a **voltage sag** (voltage < 223V).\n",
    "   * **0** represents **no sag** (voltage ≥ 223V).\n",
    "\n",
    "2. **Feature Selection**:\n",
    "   We use the columns **Global\\_active\\_power**, **Global\\_reactive\\_power**, **Global\\_intensity**, **Sub\\_metering\\_1**, **Sub\\_metering\\_2**, and **Sub\\_metering\\_3** as features for the classification model.\n",
    "\n",
    "3. **Train-Test Split**:\n",
    "   We split the dataset into **80% training** and **20% testing** sets using `train_test_split()`.\n",
    "\n",
    "4. **Random Forest Model**:\n",
    "   We train a **Random Forest** classifier to predict voltage sag. This model is well-suited for classification tasks and can handle non-linear relationships in the data.\n",
    "\n",
    "5. **Model Evaluation**:\n",
    "   We evaluate the model's performance using standard classification metrics:\n",
    "\n",
    "   * **Accuracy**: The proportion of correct predictions.\n",
    "   * **Precision**: The proportion of true positive predictions among all positive predictions.\n",
    "   * **Recall**: The proportion of true positive predictions among all actual positive cases.\n",
    "   * **F1 Score**: The harmonic mean of precision and recall.\n",
    "\n",
    "\n"
   ]
  }
 ],
 "metadata": {
  "kernelspec": {
   "display_name": "Python 3 (ipykernel)",
   "language": "python",
   "name": "python3"
  },
  "language_info": {
   "codemirror_mode": {
    "name": "ipython",
    "version": 3
   },
   "file_extension": ".py",
   "mimetype": "text/x-python",
   "name": "python",
   "nbconvert_exporter": "python",
   "pygments_lexer": "ipython3",
   "version": "3.12.3"
  }
 },
 "nbformat": 4,
 "nbformat_minor": 5
}
