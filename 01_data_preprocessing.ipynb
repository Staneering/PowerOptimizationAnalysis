{
 "cells": [
  {
   "cell_type": "markdown",
   "id": "8891781f",
   "metadata": {},
   "source": [
    "# Data Preprocessing\n",
    "\n",
    "    ## Data Preprocessing\n",
    "    This notebook handles the data loading, cleaning, and preprocessing for the power consumption dataset.\n",
    "    \n",
    "    Steps:\n",
    "    1. Load the dataset\n",
    "    2. Handle missing values\n",
    "    3. Normalize continuous features (e.g., Global_active_power, Voltage)\n",
    "    4. Combine Date and Time into a Timestamp column\n",
    "    "
   ]
  },
  {
   "cell_type": "code",
   "execution_count": 8,
   "id": "369b4f8b-7d9b-4578-a97b-8e899e10ae91",
   "metadata": {},
   "outputs": [
    {
     "name": "stdout",
     "output_type": "stream",
     "text": [
      "Collecting pandas\n",
      "  Using cached pandas-2.2.3-cp310-cp310-win_amd64.whl (11.6 MB)\n",
      "Requirement already satisfied: numpy>=1.22.4 in c:\\users\\ibrah\\appdata\\local\\programs\\python\\python310\\lib\\site-packages (from pandas) (2.2.4)\n",
      "Collecting pytz>=2020.1\n",
      "  Downloading pytz-2025.2-py2.py3-none-any.whl (509 kB)\n",
      "Requirement already satisfied: python-dateutil>=2.8.2 in c:\\users\\ibrah\\appdata\\local\\programs\\python\\python310\\lib\\site-packages (from pandas) (2.9.0.post0)\n",
      "Collecting tzdata>=2022.7\n",
      "  Downloading tzdata-2025.2-py2.py3-none-any.whl (347 kB)\n",
      "Requirement already satisfied: six>=1.5 in c:\\users\\ibrah\\appdata\\local\\programs\\python\\python310\\lib\\site-packages (from python-dateutil>=2.8.2->pandas) (1.17.0)\n",
      "Installing collected packages: tzdata, pytz, pandas\n",
      "Successfully installed pandas-2.2.3 pytz-2025.2 tzdata-2025.2\n"
     ]
    },
    {
     "name": "stderr",
     "output_type": "stream",
     "text": [
      "WARNING: You are using pip version 21.2.3; however, version 25.1 is available.\n",
      "You should consider upgrading via the 'C:\\Users\\Ibrah\\AppData\\Local\\Programs\\Python\\Python310\\python.exe -m pip install --upgrade pip' command.\n"
     ]
    },
    {
     "name": "stdout",
     "output_type": "stream",
     "text": [
      "Requirement already satisfied: numpy in c:\\users\\ibrah\\appdata\\local\\programs\\python\\python310\\lib\\site-packages (2.2.4)\n"
     ]
    },
    {
     "name": "stderr",
     "output_type": "stream",
     "text": [
      "WARNING: You are using pip version 21.2.3; however, version 25.1 is available.\n",
      "You should consider upgrading via the 'C:\\Users\\Ibrah\\AppData\\Local\\Programs\\Python\\Python310\\python.exe -m pip install --upgrade pip' command.\n"
     ]
    },
    {
     "name": "stdout",
     "output_type": "stream",
     "text": [
      "Collecting scikit-learn\n",
      "  Using cached scikit_learn-1.6.1-cp310-cp310-win_amd64.whl (11.1 MB)\n",
      "Collecting scipy>=1.6.0\n",
      "  Downloading scipy-1.15.2-cp310-cp310-win_amd64.whl (41.2 MB)\n",
      "Collecting joblib>=1.2.0\n",
      "  Using cached joblib-1.4.2-py3-none-any.whl (301 kB)\n",
      "Collecting threadpoolctl>=3.1.0\n",
      "  Downloading threadpoolctl-3.6.0-py3-none-any.whl (18 kB)\n",
      "Requirement already satisfied: numpy>=1.19.5 in c:\\users\\ibrah\\appdata\\local\\programs\\python\\python310\\lib\\site-packages (from scikit-learn) (2.2.4)\n",
      "Installing collected packages: threadpoolctl, scipy, joblib, scikit-learn\n",
      "Successfully installed joblib-1.4.2 scikit-learn-1.6.1 scipy-1.15.2 threadpoolctl-3.6.0\n"
     ]
    },
    {
     "name": "stderr",
     "output_type": "stream",
     "text": [
      "WARNING: You are using pip version 21.2.3; however, version 25.1 is available.\n",
      "You should consider upgrading via the 'C:\\Users\\Ibrah\\AppData\\Local\\Programs\\Python\\Python310\\python.exe -m pip install --upgrade pip' command.\n"
     ]
    }
   ],
   "source": [
    "!pip install pandas \n",
    "!pip install numpy\n",
    "!pip install scikit-learn"
   ]
  },
  {
   "cell_type": "code",
   "execution_count": 9,
   "id": "b29a23d3-57c5-4a86-be21-8079dac01bc3",
   "metadata": {},
   "outputs": [
    {
     "data": {
      "text/html": [
       "<div>\n",
       "<style scoped>\n",
       "    .dataframe tbody tr th:only-of-type {\n",
       "        vertical-align: middle;\n",
       "    }\n",
       "\n",
       "    .dataframe tbody tr th {\n",
       "        vertical-align: top;\n",
       "    }\n",
       "\n",
       "    .dataframe thead th {\n",
       "        text-align: right;\n",
       "    }\n",
       "</style>\n",
       "<table border=\"1\" class=\"dataframe\">\n",
       "  <thead>\n",
       "    <tr style=\"text-align: right;\">\n",
       "      <th></th>\n",
       "      <th>Global_active_power</th>\n",
       "      <th>Global_reactive_power</th>\n",
       "      <th>Voltage</th>\n",
       "      <th>Global_intensity</th>\n",
       "      <th>Sub_metering_1</th>\n",
       "      <th>Sub_metering_2</th>\n",
       "      <th>Sub_metering_3</th>\n",
       "    </tr>\n",
       "    <tr>\n",
       "      <th>Timestamp</th>\n",
       "      <th></th>\n",
       "      <th></th>\n",
       "      <th></th>\n",
       "      <th></th>\n",
       "      <th></th>\n",
       "      <th></th>\n",
       "      <th></th>\n",
       "    </tr>\n",
       "  </thead>\n",
       "  <tbody>\n",
       "    <tr>\n",
       "      <th>2006-12-16 17:24:00</th>\n",
       "      <td>0.374796</td>\n",
       "      <td>0.300719</td>\n",
       "      <td>0.376090</td>\n",
       "      <td>0.377593</td>\n",
       "      <td>0.0</td>\n",
       "      <td>0.0125</td>\n",
       "      <td>0.548387</td>\n",
       "    </tr>\n",
       "    <tr>\n",
       "      <th>2006-12-16 17:25:00</th>\n",
       "      <td>0.478363</td>\n",
       "      <td>0.313669</td>\n",
       "      <td>0.336995</td>\n",
       "      <td>0.473029</td>\n",
       "      <td>0.0</td>\n",
       "      <td>0.0125</td>\n",
       "      <td>0.516129</td>\n",
       "    </tr>\n",
       "    <tr>\n",
       "      <th>2006-12-16 17:26:00</th>\n",
       "      <td>0.479631</td>\n",
       "      <td>0.358273</td>\n",
       "      <td>0.326010</td>\n",
       "      <td>0.473029</td>\n",
       "      <td>0.0</td>\n",
       "      <td>0.0250</td>\n",
       "      <td>0.548387</td>\n",
       "    </tr>\n",
       "    <tr>\n",
       "      <th>2006-12-16 17:27:00</th>\n",
       "      <td>0.480898</td>\n",
       "      <td>0.361151</td>\n",
       "      <td>0.340549</td>\n",
       "      <td>0.473029</td>\n",
       "      <td>0.0</td>\n",
       "      <td>0.0125</td>\n",
       "      <td>0.548387</td>\n",
       "    </tr>\n",
       "    <tr>\n",
       "      <th>2006-12-16 17:28:00</th>\n",
       "      <td>0.325005</td>\n",
       "      <td>0.379856</td>\n",
       "      <td>0.403231</td>\n",
       "      <td>0.323651</td>\n",
       "      <td>0.0</td>\n",
       "      <td>0.0125</td>\n",
       "      <td>0.548387</td>\n",
       "    </tr>\n",
       "  </tbody>\n",
       "</table>\n",
       "</div>"
      ],
      "text/plain": [
       "                     Global_active_power  Global_reactive_power   Voltage  \\\n",
       "Timestamp                                                                   \n",
       "2006-12-16 17:24:00             0.374796               0.300719  0.376090   \n",
       "2006-12-16 17:25:00             0.478363               0.313669  0.336995   \n",
       "2006-12-16 17:26:00             0.479631               0.358273  0.326010   \n",
       "2006-12-16 17:27:00             0.480898               0.361151  0.340549   \n",
       "2006-12-16 17:28:00             0.325005               0.379856  0.403231   \n",
       "\n",
       "                     Global_intensity  Sub_metering_1  Sub_metering_2  \\\n",
       "Timestamp                                                               \n",
       "2006-12-16 17:24:00          0.377593             0.0          0.0125   \n",
       "2006-12-16 17:25:00          0.473029             0.0          0.0125   \n",
       "2006-12-16 17:26:00          0.473029             0.0          0.0250   \n",
       "2006-12-16 17:27:00          0.473029             0.0          0.0125   \n",
       "2006-12-16 17:28:00          0.323651             0.0          0.0125   \n",
       "\n",
       "                     Sub_metering_3  \n",
       "Timestamp                            \n",
       "2006-12-16 17:24:00        0.548387  \n",
       "2006-12-16 17:25:00        0.516129  \n",
       "2006-12-16 17:26:00        0.548387  \n",
       "2006-12-16 17:27:00        0.548387  \n",
       "2006-12-16 17:28:00        0.548387  "
      ]
     },
     "execution_count": 9,
     "metadata": {},
     "output_type": "execute_result"
    }
   ],
   "source": [
    "\n",
    "#### **Code Cell**:\n",
    "\n",
    "\n",
    "import pandas as pd\n",
    "import numpy as np\n",
    "from sklearn.preprocessing import MinMaxScaler\n",
    "import zipfile\n",
    "import os\n",
    "\n",
    "\n",
    "# Step 1: Extract the ZIP file\n",
    "zip_file_path = r\"C:\\Users\\Ibrah\\Downloads\\individual+household+electric+power+consumption.zip\"\n",
    "extract_dir = r\"C:\\\\Users\\\\Ibrah\\\\Downloads\\\\power_consumption_data\\\\\"\n",
    "\n",
    "with zipfile.ZipFile(zip_file_path, 'r') as zip_ref:\n",
    "    zip_ref.extractall(extract_dir)\n",
    "\n",
    "# Step 2: Load the CSV file from the extracted folder\n",
    "csv_file_path = os.path.join(extract_dir, 'household_power_consumption.txt')\n",
    "df = pd.read_csv(csv_file_path, sep=';', header=0, low_memory=False, na_values=[\"?\"])\n",
    "\n",
    "# Step 1: Combine Date and Time into a Timestamp column\n",
    "df['Timestamp'] = pd.to_datetime(df['Date'] + ' ' + df['Time'], format='%d/%m/%Y %H:%M:%S')\n",
    "df.set_index('Timestamp', inplace=True)\n",
    "\n",
    "# Step 2: Drop original Date and Time columns\n",
    "df.drop(columns=['Date', 'Time'], inplace=True)\n",
    "\n",
    "# Step 3: Handle missing values\n",
    "# Fill missing values with the mean of the respective column\n",
    "df.fillna(df.mean(), inplace=True)\n",
    "\n",
    "# Step 4: Normalize the continuous features using Min-Max Scaling\n",
    "scaler = MinMaxScaler()\n",
    "continuous_columns = ['Global_active_power', 'Global_reactive_power', 'Voltage', 'Global_intensity', \n",
    "                      'Sub_metering_1', 'Sub_metering_2', 'Sub_metering_3']\n",
    "df[continuous_columns] = scaler.fit_transform(df[continuous_columns])\n",
    "\n",
    "# Check the first few rows of the cleaned dataset\n",
    "df.head()\n"
   ]
  },
  {
   "cell_type": "markdown",
   "id": "60d9d691-2a34-4cfb-9b11-1a0859219954",
   "metadata": {},
   "source": [
    "\n",
    "#### **Markdown Cell**:\n",
    "\n",
    "\n",
    "### Data Summary\n",
    "\n",
    "In this section, we check for missing values and display basic summary statistics.\n",
    "\n",
    "We will:\n",
    "- Check for missing values in the dataset.\n",
    "- Provide summary statistics of the continuous features to understand their distributions.\n",
    "\n",
    "\n",
    "\n",
    "\n"
   ]
  },
  {
   "cell_type": "code",
   "execution_count": 10,
   "id": "0f15a467-082e-4c96-825a-9914484faad1",
   "metadata": {},
   "outputs": [
    {
     "name": "stdout",
     "output_type": "stream",
     "text": [
      "Missing Values:\n",
      " Global_active_power      0\n",
      "Global_reactive_power    0\n",
      "Voltage                  0\n",
      "Global_intensity         0\n",
      "Sub_metering_1           0\n",
      "Sub_metering_2           0\n",
      "Sub_metering_3           0\n",
      "dtype: int64\n",
      "\n",
      "Summary Stats:\n",
      "        Global_active_power  Global_reactive_power       Voltage  \\\n",
      "count         2.075259e+06           2.075259e+06  2.075259e+06   \n",
      "mean          9.194415e-02           8.900322e-02  5.699469e-01   \n",
      "std           9.511638e-02           8.058576e-02  1.040272e-01   \n",
      "min           0.000000e+00           0.000000e+00  0.000000e+00   \n",
      "25%           2.118414e-02           3.453237e-02  5.111470e-01   \n",
      "50%           5.015390e-02           7.338129e-02  5.738288e-01   \n",
      "75%           1.307261e-01           1.381295e-01  6.352181e-01   \n",
      "max           1.000000e+00           1.000000e+00  1.000000e+00   \n",
      "\n",
      "       Global_intensity  Sub_metering_1  Sub_metering_2  Sub_metering_3  \n",
      "count      2.075259e+06    2.075259e+06    2.075259e+06    2.075259e+06  \n",
      "mean       9.186223e-02    1.274913e-02    1.623150e-02    2.083370e-01  \n",
      "std        9.162843e-02    6.948178e-02    7.231838e-02    2.704573e-01  \n",
      "min        0.000000e+00    0.000000e+00    0.000000e+00    0.000000e+00  \n",
      "25%        2.489627e-02    0.000000e+00    0.000000e+00    0.000000e+00  \n",
      "50%        5.394191e-02    0.000000e+00    0.000000e+00    3.225806e-02  \n",
      "75%        1.286307e-01    0.000000e+00    1.250000e-02    5.483871e-01  \n",
      "max        1.000000e+00    1.000000e+00    1.000000e+00    1.000000e+00  \n"
     ]
    }
   ],
   "source": [
    "\n",
    "#### **Code Cell**:\n",
    "\n",
    "# Step 5: Check for missing values\n",
    "missing_values = df.isnull().sum()\n",
    "\n",
    "# Basic statistics\n",
    "stats = df.describe()\n",
    "\n",
    "# Display missing values and basic stats\n",
    "print(\"Missing Values:\\n\", missing_values)\n",
    "print(\"\\nSummary Stats:\\n\", stats)\n",
    "\n",
    "\n"
   ]
  },
  {
   "cell_type": "markdown",
   "id": "8d19a46b-7894-46db-a83f-10a5f35f9af2",
   "metadata": {},
   "source": [
    "### **Explanation of the Code**:\n",
    "\n",
    "1. **Data Loading**: The dataset is loaded from a CSV file with `pd.read_csv()`. We specify `na_values=[\"?\"]` to treat `?` as missing values.\n",
    "2. **Timestamp Creation**: We combine the `Date` and `Time` columns into a `Timestamp` column and set it as the index of the DataFrame.\n",
    "3. **Handling Missing Values**: Missing values are filled with the **mean** of each column using `fillna()`.\n",
    "4. **Normalization**: We use **Min-Max Scaling** to normalize the continuous features (e.g., **Global\\_active\\_power**, **Voltage**, etc.) to the range \\[0, 1].\n",
    "5. **Missing Values Check & Summary Stats**: We display any missing values and summarize the dataset’s basic statistics (mean, min, max, etc.).\n",
    "\n"
   ]
  },
  {
   "cell_type": "code",
   "execution_count": 11,
   "id": "0c540936-b324-4a85-a9a7-c9e1b2f1a072",
   "metadata": {},
   "outputs": [],
   "source": [
    "# Save the preprocessed data\n",
    "df.to_csv('preprocessed_power_consumption.csv')  # or use df.to_pickle('preprocessed_power_consumption.pkl')\n"
   ]
  },
  {
   "cell_type": "code",
   "execution_count": null,
   "id": "12b489c0-d9b6-4324-b79b-a1e4efc77eab",
   "metadata": {},
   "outputs": [],
   "source": []
  }
 ],
 "metadata": {
  "kernelspec": {
   "display_name": "Python 3 (ipykernel)",
   "language": "python",
   "name": "python3"
  },
  "language_info": {
   "codemirror_mode": {
    "name": "ipython",
    "version": 3
   },
   "file_extension": ".py",
   "mimetype": "text/x-python",
   "name": "python",
   "nbconvert_exporter": "python",
   "pygments_lexer": "ipython3",
   "version": "3.10.0"
  }
 },
 "nbformat": 4,
 "nbformat_minor": 5
}
